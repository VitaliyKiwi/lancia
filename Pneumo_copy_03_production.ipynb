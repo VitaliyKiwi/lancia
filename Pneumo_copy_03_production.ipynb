{
  "nbformat": 4,
  "nbformat_minor": 0,
  "metadata": {
    "jupytext": {
      "split_at_heading": true
    },
    "kernelspec": {
      "display_name": "Python 3",
      "language": "python",
      "name": "python3"
    },
    "language_info": {
      "codemirror_mode": {
        "name": "ipython",
        "version": 3
      },
      "file_extension": ".py",
      "mimetype": "text/x-python",
      "name": "python",
      "nbconvert_exporter": "python",
      "pygments_lexer": "ipython3",
      "version": "3.7.7"
    },
    "toc": {
      "base_numbering": 1,
      "nav_menu": {},
      "number_sections": false,
      "sideBar": true,
      "skip_h1_title": true,
      "title_cell": "Table of Contents",
      "title_sidebar": "Contents",
      "toc_cell": false,
      "toc_position": {},
      "toc_section_display": true,
      "toc_window_display": false
    },
    "colab": {
      "name": "Pneumo copy_03_production.ipynb",
      "provenance": [],
      "collapsed_sections": [],
      "include_colab_link": true
    },
    "widgets": {
      "application/vnd.jupyter.widget-state+json": {
        "789632d1f7af4ca485ff0827c0362a94": {
          "model_module": "@jupyter-widgets/controls",
          "model_name": "FileUploadModel",
          "state": {
            "_view_name": "FileUploadView",
            "_counter": 0,
            "style": "IPY_MODEL_d78ffab877174096aabbe019e9c09249",
            "_dom_classes": [],
            "description": "Upload",
            "multiple": false,
            "_model_name": "FileUploadModel",
            "data": [],
            "button_style": "",
            "_view_module": "@jupyter-widgets/controls",
            "_model_module_version": "1.5.0",
            "accept": "",
            "_view_count": null,
            "disabled": false,
            "_view_module_version": "1.5.0",
            "error": "",
            "description_tooltip": null,
            "metadata": [],
            "_model_module": "@jupyter-widgets/controls",
            "layout": "IPY_MODEL_fd78da6ecc334246b5d956f1e72f1237",
            "icon": "upload"
          }
        },
        "d78ffab877174096aabbe019e9c09249": {
          "model_module": "@jupyter-widgets/controls",
          "model_name": "ButtonStyleModel",
          "state": {
            "_view_name": "StyleView",
            "_model_name": "ButtonStyleModel",
            "_view_module": "@jupyter-widgets/base",
            "_model_module_version": "1.5.0",
            "_view_count": null,
            "button_color": null,
            "font_weight": "",
            "_view_module_version": "1.2.0",
            "_model_module": "@jupyter-widgets/controls"
          }
        },
        "fd78da6ecc334246b5d956f1e72f1237": {
          "model_module": "@jupyter-widgets/base",
          "model_name": "LayoutModel",
          "state": {
            "_view_name": "LayoutView",
            "grid_template_rows": null,
            "right": null,
            "justify_content": null,
            "_view_module": "@jupyter-widgets/base",
            "overflow": null,
            "_model_module_version": "1.2.0",
            "_view_count": null,
            "flex_flow": null,
            "width": null,
            "min_width": null,
            "border": null,
            "align_items": null,
            "bottom": null,
            "_model_module": "@jupyter-widgets/base",
            "top": null,
            "grid_column": null,
            "overflow_y": null,
            "overflow_x": null,
            "grid_auto_flow": null,
            "grid_area": null,
            "grid_template_columns": null,
            "flex": null,
            "_model_name": "LayoutModel",
            "justify_items": null,
            "grid_row": null,
            "max_height": null,
            "align_content": null,
            "visibility": null,
            "align_self": null,
            "height": null,
            "min_height": null,
            "padding": null,
            "grid_auto_rows": null,
            "grid_gap": null,
            "max_width": null,
            "order": null,
            "_view_module_version": "1.2.0",
            "grid_template_areas": null,
            "object_position": null,
            "object_fit": null,
            "grid_auto_columns": null,
            "margin": null,
            "display": null,
            "left": null
          }
        },
        "9e0ef8904fc64f6ca1347ed24e9bb811": {
          "model_module": "@jupyter-widgets/controls",
          "model_name": "LabelModel",
          "state": {
            "_view_name": "LabelView",
            "style": "IPY_MODEL_867650ee5e3646c4a88ccce17514e465",
            "_dom_classes": [],
            "description": "",
            "_model_name": "LabelModel",
            "placeholder": "​",
            "_view_module": "@jupyter-widgets/controls",
            "_model_module_version": "1.5.0",
            "value": "Диагноз: PNEUMONIA; Вероятность: 0.9819",
            "_view_count": null,
            "_view_module_version": "1.5.0",
            "description_tooltip": null,
            "_model_module": "@jupyter-widgets/controls",
            "layout": "IPY_MODEL_61c38cb23259484bb11069359d3c0c46"
          }
        },
        "867650ee5e3646c4a88ccce17514e465": {
          "model_module": "@jupyter-widgets/controls",
          "model_name": "DescriptionStyleModel",
          "state": {
            "_view_name": "StyleView",
            "_model_name": "DescriptionStyleModel",
            "description_width": "",
            "_view_module": "@jupyter-widgets/base",
            "_model_module_version": "1.5.0",
            "_view_count": null,
            "_view_module_version": "1.2.0",
            "_model_module": "@jupyter-widgets/controls"
          }
        },
        "61c38cb23259484bb11069359d3c0c46": {
          "model_module": "@jupyter-widgets/base",
          "model_name": "LayoutModel",
          "state": {
            "_view_name": "LayoutView",
            "grid_template_rows": null,
            "right": null,
            "justify_content": null,
            "_view_module": "@jupyter-widgets/base",
            "overflow": null,
            "_model_module_version": "1.2.0",
            "_view_count": null,
            "flex_flow": null,
            "width": null,
            "min_width": null,
            "border": null,
            "align_items": null,
            "bottom": null,
            "_model_module": "@jupyter-widgets/base",
            "top": null,
            "grid_column": null,
            "overflow_y": null,
            "overflow_x": null,
            "grid_auto_flow": null,
            "grid_area": null,
            "grid_template_columns": null,
            "flex": null,
            "_model_name": "LayoutModel",
            "justify_items": null,
            "grid_row": null,
            "max_height": null,
            "align_content": null,
            "visibility": null,
            "align_self": null,
            "height": null,
            "min_height": null,
            "padding": null,
            "grid_auto_rows": null,
            "grid_gap": null,
            "max_width": null,
            "order": null,
            "_view_module_version": "1.2.0",
            "grid_template_areas": null,
            "object_position": null,
            "object_fit": null,
            "grid_auto_columns": null,
            "margin": null,
            "display": null,
            "left": null
          }
        },
        "802dcc3ea15f43e79a6d87f228d15675": {
          "model_module": "@jupyter-widgets/controls",
          "model_name": "ButtonModel",
          "state": {
            "_view_name": "ButtonView",
            "style": "IPY_MODEL_77be3c602a9b4b63a034da4bf0ade4e7",
            "_dom_classes": [],
            "description": "Диагностировать",
            "_model_name": "ButtonModel",
            "button_style": "",
            "_view_module": "@jupyter-widgets/controls",
            "_model_module_version": "1.5.0",
            "tooltip": "",
            "_view_count": null,
            "disabled": false,
            "_view_module_version": "1.5.0",
            "layout": "IPY_MODEL_650be75d09e348d7ad0d46c31a6d4c5b",
            "_model_module": "@jupyter-widgets/controls",
            "icon": ""
          }
        },
        "77be3c602a9b4b63a034da4bf0ade4e7": {
          "model_module": "@jupyter-widgets/controls",
          "model_name": "ButtonStyleModel",
          "state": {
            "_view_name": "StyleView",
            "_model_name": "ButtonStyleModel",
            "_view_module": "@jupyter-widgets/base",
            "_model_module_version": "1.5.0",
            "_view_count": null,
            "button_color": null,
            "font_weight": "",
            "_view_module_version": "1.2.0",
            "_model_module": "@jupyter-widgets/controls"
          }
        },
        "650be75d09e348d7ad0d46c31a6d4c5b": {
          "model_module": "@jupyter-widgets/base",
          "model_name": "LayoutModel",
          "state": {
            "_view_name": "LayoutView",
            "grid_template_rows": null,
            "right": null,
            "justify_content": null,
            "_view_module": "@jupyter-widgets/base",
            "overflow": null,
            "_model_module_version": "1.2.0",
            "_view_count": null,
            "flex_flow": null,
            "width": null,
            "min_width": null,
            "border": null,
            "align_items": null,
            "bottom": null,
            "_model_module": "@jupyter-widgets/base",
            "top": null,
            "grid_column": null,
            "overflow_y": null,
            "overflow_x": null,
            "grid_auto_flow": null,
            "grid_area": null,
            "grid_template_columns": null,
            "flex": null,
            "_model_name": "LayoutModel",
            "justify_items": null,
            "grid_row": null,
            "max_height": null,
            "align_content": null,
            "visibility": null,
            "align_self": null,
            "height": null,
            "min_height": null,
            "padding": null,
            "grid_auto_rows": null,
            "grid_gap": null,
            "max_width": null,
            "order": null,
            "_view_module_version": "1.2.0",
            "grid_template_areas": null,
            "object_position": null,
            "object_fit": null,
            "grid_auto_columns": null,
            "margin": null,
            "display": null,
            "left": null
          }
        },
        "3985d4ce7483476db0ebe0e3e369615a": {
          "model_module": "@jupyter-widgets/controls",
          "model_name": "VBoxModel",
          "state": {
            "_view_name": "VBoxView",
            "_dom_classes": [],
            "_model_name": "VBoxModel",
            "_view_module": "@jupyter-widgets/controls",
            "_model_module_version": "1.5.0",
            "_view_count": null,
            "_view_module_version": "1.5.0",
            "box_style": "",
            "layout": "IPY_MODEL_478f4c6bb56f46c8b996265968bf91a6",
            "_model_module": "@jupyter-widgets/controls",
            "children": [
              "IPY_MODEL_f0c9e78759764fe1b7dab238cbe38f73",
              "IPY_MODEL_63aabe144825476bb61aee0bc7f1d7c4",
              "IPY_MODEL_802dcc3ea15f43e79a6d87f228d15675",
              "IPY_MODEL_6c8cfc076fb04cd2939be19c16f8a350",
              "IPY_MODEL_9e0ef8904fc64f6ca1347ed24e9bb811"
            ]
          }
        },
        "478f4c6bb56f46c8b996265968bf91a6": {
          "model_module": "@jupyter-widgets/base",
          "model_name": "LayoutModel",
          "state": {
            "_view_name": "LayoutView",
            "grid_template_rows": null,
            "right": null,
            "justify_content": null,
            "_view_module": "@jupyter-widgets/base",
            "overflow": null,
            "_model_module_version": "1.2.0",
            "_view_count": null,
            "flex_flow": null,
            "width": null,
            "min_width": null,
            "border": null,
            "align_items": null,
            "bottom": null,
            "_model_module": "@jupyter-widgets/base",
            "top": null,
            "grid_column": null,
            "overflow_y": null,
            "overflow_x": null,
            "grid_auto_flow": null,
            "grid_area": null,
            "grid_template_columns": null,
            "flex": null,
            "_model_name": "LayoutModel",
            "justify_items": null,
            "grid_row": null,
            "max_height": null,
            "align_content": null,
            "visibility": null,
            "align_self": null,
            "height": null,
            "min_height": null,
            "padding": null,
            "grid_auto_rows": null,
            "grid_gap": null,
            "max_width": null,
            "order": null,
            "_view_module_version": "1.2.0",
            "grid_template_areas": null,
            "object_position": null,
            "object_fit": null,
            "grid_auto_columns": null,
            "margin": null,
            "display": null,
            "left": null
          }
        },
        "f0c9e78759764fe1b7dab238cbe38f73": {
          "model_module": "@jupyter-widgets/controls",
          "model_name": "LabelModel",
          "state": {
            "_view_name": "LabelView",
            "style": "IPY_MODEL_940c88a44ea3472aa3732a1a457201bd",
            "_dom_classes": [],
            "description": "",
            "_model_name": "LabelModel",
            "placeholder": "​",
            "_view_module": "@jupyter-widgets/controls",
            "_model_module_version": "1.5.0",
            "value": "Выбери рентгенограмму",
            "_view_count": null,
            "_view_module_version": "1.5.0",
            "description_tooltip": null,
            "_model_module": "@jupyter-widgets/controls",
            "layout": "IPY_MODEL_c94dbb2cc210463988c2709bf218b839"
          }
        },
        "63aabe144825476bb61aee0bc7f1d7c4": {
          "model_module": "@jupyter-widgets/controls",
          "model_name": "FileUploadModel",
          "state": {
            "_view_name": "FileUploadView",
            "_counter": 2,
            "style": "IPY_MODEL_a70bc372ab7f4cbc82f2aa6f820bfa4f",
            "_dom_classes": [],
            "description": "Upload",
            "multiple": false,
            "_model_name": "FileUploadModel",
            "data": [
              null
            ],
            "button_style": "",
            "_view_module": "@jupyter-widgets/controls",
            "_model_module_version": "1.5.0",
            "accept": "",
            "_view_count": null,
            "disabled": false,
            "_view_module_version": "1.5.0",
            "error": "",
            "description_tooltip": null,
            "metadata": [
              {
                "name": "person17_bacteria_56.jpeg",
                "type": "image/jpeg",
                "size": 95861,
                "lastModified": 1515151310000
              }
            ],
            "_model_module": "@jupyter-widgets/controls",
            "layout": "IPY_MODEL_a74905dc19d44017bbac4c54fd235c63",
            "icon": "upload"
          }
        },
        "6c8cfc076fb04cd2939be19c16f8a350": {
          "model_module": "@jupyter-widgets/output",
          "model_name": "OutputModel",
          "state": {
            "_view_name": "OutputView",
            "msg_id": "",
            "_dom_classes": [],
            "_model_name": "OutputModel",
            "outputs": [
              {
                "output_type": "display_data",
                "metadata": {
                  "tags": []
                },
                "image/png": "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\n",
                "text/plain": "<PIL.Image.Image image mode=RGB size=224x166 at 0x7FEF3EE25EB8>"
              }
            ],
            "_view_module": "@jupyter-widgets/output",
            "_model_module_version": "1.0.0",
            "_view_count": null,
            "_view_module_version": "1.0.0",
            "layout": "IPY_MODEL_736a2aef063b457bbcff9c18b168da53",
            "_model_module": "@jupyter-widgets/output"
          }
        },
        "940c88a44ea3472aa3732a1a457201bd": {
          "model_module": "@jupyter-widgets/controls",
          "model_name": "DescriptionStyleModel",
          "state": {
            "_view_name": "StyleView",
            "_model_name": "DescriptionStyleModel",
            "description_width": "",
            "_view_module": "@jupyter-widgets/base",
            "_model_module_version": "1.5.0",
            "_view_count": null,
            "_view_module_version": "1.2.0",
            "_model_module": "@jupyter-widgets/controls"
          }
        },
        "c94dbb2cc210463988c2709bf218b839": {
          "model_module": "@jupyter-widgets/base",
          "model_name": "LayoutModel",
          "state": {
            "_view_name": "LayoutView",
            "grid_template_rows": null,
            "right": null,
            "justify_content": null,
            "_view_module": "@jupyter-widgets/base",
            "overflow": null,
            "_model_module_version": "1.2.0",
            "_view_count": null,
            "flex_flow": null,
            "width": null,
            "min_width": null,
            "border": null,
            "align_items": null,
            "bottom": null,
            "_model_module": "@jupyter-widgets/base",
            "top": null,
            "grid_column": null,
            "overflow_y": null,
            "overflow_x": null,
            "grid_auto_flow": null,
            "grid_area": null,
            "grid_template_columns": null,
            "flex": null,
            "_model_name": "LayoutModel",
            "justify_items": null,
            "grid_row": null,
            "max_height": null,
            "align_content": null,
            "visibility": null,
            "align_self": null,
            "height": null,
            "min_height": null,
            "padding": null,
            "grid_auto_rows": null,
            "grid_gap": null,
            "max_width": null,
            "order": null,
            "_view_module_version": "1.2.0",
            "grid_template_areas": null,
            "object_position": null,
            "object_fit": null,
            "grid_auto_columns": null,
            "margin": null,
            "display": null,
            "left": null
          }
        },
        "a70bc372ab7f4cbc82f2aa6f820bfa4f": {
          "model_module": "@jupyter-widgets/controls",
          "model_name": "ButtonStyleModel",
          "state": {
            "_view_name": "StyleView",
            "_model_name": "ButtonStyleModel",
            "_view_module": "@jupyter-widgets/base",
            "_model_module_version": "1.5.0",
            "_view_count": null,
            "button_color": null,
            "font_weight": "",
            "_view_module_version": "1.2.0",
            "_model_module": "@jupyter-widgets/controls"
          }
        },
        "a74905dc19d44017bbac4c54fd235c63": {
          "model_module": "@jupyter-widgets/base",
          "model_name": "LayoutModel",
          "state": {
            "_view_name": "LayoutView",
            "grid_template_rows": null,
            "right": null,
            "justify_content": null,
            "_view_module": "@jupyter-widgets/base",
            "overflow": null,
            "_model_module_version": "1.2.0",
            "_view_count": null,
            "flex_flow": null,
            "width": null,
            "min_width": null,
            "border": null,
            "align_items": null,
            "bottom": null,
            "_model_module": "@jupyter-widgets/base",
            "top": null,
            "grid_column": null,
            "overflow_y": null,
            "overflow_x": null,
            "grid_auto_flow": null,
            "grid_area": null,
            "grid_template_columns": null,
            "flex": null,
            "_model_name": "LayoutModel",
            "justify_items": null,
            "grid_row": null,
            "max_height": null,
            "align_content": null,
            "visibility": null,
            "align_self": null,
            "height": null,
            "min_height": null,
            "padding": null,
            "grid_auto_rows": null,
            "grid_gap": null,
            "max_width": null,
            "order": null,
            "_view_module_version": "1.2.0",
            "grid_template_areas": null,
            "object_position": null,
            "object_fit": null,
            "grid_auto_columns": null,
            "margin": null,
            "display": null,
            "left": null
          }
        },
        "736a2aef063b457bbcff9c18b168da53": {
          "model_module": "@jupyter-widgets/base",
          "model_name": "LayoutModel",
          "state": {
            "_view_name": "LayoutView",
            "grid_template_rows": null,
            "right": null,
            "justify_content": null,
            "_view_module": "@jupyter-widgets/base",
            "overflow": null,
            "_model_module_version": "1.2.0",
            "_view_count": null,
            "flex_flow": null,
            "width": null,
            "min_width": null,
            "border": null,
            "align_items": null,
            "bottom": null,
            "_model_module": "@jupyter-widgets/base",
            "top": null,
            "grid_column": null,
            "overflow_y": null,
            "overflow_x": null,
            "grid_auto_flow": null,
            "grid_area": null,
            "grid_template_columns": null,
            "flex": null,
            "_model_name": "LayoutModel",
            "justify_items": null,
            "grid_row": null,
            "max_height": null,
            "align_content": null,
            "visibility": null,
            "align_self": null,
            "height": null,
            "min_height": null,
            "padding": null,
            "grid_auto_rows": null,
            "grid_gap": null,
            "max_width": null,
            "order": null,
            "_view_module_version": "1.2.0",
            "grid_template_areas": null,
            "object_position": null,
            "object_fit": null,
            "grid_auto_columns": null,
            "margin": null,
            "display": null,
            "left": null
          }
        }
      }
    }
  },
  "cells": [
    {
      "cell_type": "markdown",
      "metadata": {
        "id": "view-in-github",
        "colab_type": "text"
      },
      "source": [
        "<a href=\"https://colab.research.google.com/github/VitaliyKiwi/lancia/blob/master/Pneumo_copy_03_production.ipynb\" target=\"_parent\"><img src=\"https://colab.research.google.com/assets/colab-badge.svg\" alt=\"Open In Colab\"/></a>"
      ]
    },
    {
      "cell_type": "code",
      "metadata": {
        "id": "sweBycXhXxgb",
        "outputId": "46814609-241c-40c4-b5ca-695f705289d3",
        "colab": {
          "base_uri": "https://localhost:8080/"
        }
      },
      "source": [
        "#hide\n",
        "!pip install -Uqq fastbook\n",
        "import fastbook\n",
        "fastbook.setup_book()"
      ],
      "execution_count": 1,
      "outputs": [
        {
          "output_type": "stream",
          "text": [
            "\u001b[K     |████████████████████████████████| 727kB 3.5MB/s \n",
            "\u001b[K     |████████████████████████████████| 51kB 5.6MB/s \n",
            "\u001b[K     |████████████████████████████████| 1.1MB 18.9MB/s \n",
            "\u001b[K     |████████████████████████████████| 51kB 6.0MB/s \n",
            "\u001b[K     |████████████████████████████████| 194kB 26.3MB/s \n",
            "\u001b[K     |████████████████████████████████| 51kB 5.6MB/s \n",
            "\u001b[K     |████████████████████████████████| 92kB 8.5MB/s \n",
            "\u001b[K     |████████████████████████████████| 40kB 4.4MB/s \n",
            "\u001b[K     |████████████████████████████████| 51kB 6.1MB/s \n",
            "\u001b[K     |████████████████████████████████| 61kB 6.7MB/s \n",
            "\u001b[K     |████████████████████████████████| 2.6MB 25.9MB/s \n",
            "\u001b[?25hMounted at /content/gdrive\n"
          ],
          "name": "stdout"
        }
      ]
    },
    {
      "cell_type": "code",
      "metadata": {
        "id": "YnluiBwcXxgi"
      },
      "source": [
        "from fastbook import *\n",
        "from fastai.vision.widgets import *"
      ],
      "execution_count": 2,
      "outputs": []
    },
    {
      "cell_type": "code",
      "metadata": {
        "id": "tk4W2c5FvC3J"
      },
      "source": [
        "import os\n",
        "from PIL import Image"
      ],
      "execution_count": 3,
      "outputs": []
    },
    {
      "cell_type": "markdown",
      "metadata": {
        "id": "UUdrElIsTt6p"
      },
      "source": [
        "Use\n"
      ]
    },
    {
      "cell_type": "code",
      "metadata": {
        "id": "k_6bCddhXxjU"
      },
      "source": [
        "learn_inf = load_learner('/content/gdrive/My Drive/AI_Project/chest/export50.pkl')"
      ],
      "execution_count": 4,
      "outputs": []
    },
    {
      "cell_type": "code",
      "metadata": {
        "id": "fXxVoHrvXxjY"
      },
      "source": [
        "learn_inf.predict('/content/gdrive/My Drive/AI_Project/chest/val/PNEUMONIA/person1954_bacteria_4886.jpeg')"
      ],
      "execution_count": null,
      "outputs": []
    },
    {
      "cell_type": "code",
      "metadata": {
        "id": "mpaD4YvNXxjc",
        "outputId": "07666455-0536-473d-da4b-596a382e94f2",
        "colab": {
          "base_uri": "https://localhost:8080/"
        }
      },
      "source": [
        "learn_inf.dls.vocab"
      ],
      "execution_count": 6,
      "outputs": [
        {
          "output_type": "execute_result",
          "data": {
            "text/plain": [
              "['NORMAL', 'PNEUMONIA']"
            ]
          },
          "metadata": {
            "tags": []
          },
          "execution_count": 6
        }
      ]
    },
    {
      "cell_type": "code",
      "metadata": {
        "id": "q9h9lSFMXxji",
        "outputId": "d29b72c0-d35d-4b85-a253-e86d9cca1541",
        "colab": {
          "base_uri": "https://localhost:8080/",
          "height": 49,
          "referenced_widgets": [
            "789632d1f7af4ca485ff0827c0362a94",
            "d78ffab877174096aabbe019e9c09249",
            "fd78da6ecc334246b5d956f1e72f1237"
          ]
        }
      },
      "source": [
        "btn_upload = widgets.FileUpload()\n",
        "btn_upload"
      ],
      "execution_count": 7,
      "outputs": [
        {
          "output_type": "display_data",
          "data": {
            "application/vnd.jupyter.widget-view+json": {
              "model_id": "789632d1f7af4ca485ff0827c0362a94",
              "version_minor": 0,
              "version_major": 2
            },
            "text/plain": [
              "FileUpload(value={}, description='Upload')"
            ]
          },
          "metadata": {
            "tags": []
          }
        }
      ]
    },
    {
      "cell_type": "code",
      "metadata": {
        "hide_input": true,
        "id": "bZIeebp-Xxjm"
      },
      "source": [
        "btn_upload = SimpleNamespace(data = ['/content/gdrive/My Drive/AI_lancia/lancia/epsilon/00000006.jpg'])"
      ],
      "execution_count": 8,
      "outputs": []
    },
    {
      "cell_type": "code",
      "metadata": {
        "id": "F82AcpFkXxjp"
      },
      "source": [
        "img = PILImage.create(btn_upload.data[-1])"
      ],
      "execution_count": 9,
      "outputs": []
    },
    {
      "cell_type": "code",
      "metadata": {
        "id": "kXlVzvc8Xxju"
      },
      "source": [
        "out_pl = widgets.Output()\n",
        "out_pl.clear_output()\n",
        "with out_pl: display(img.to_thumb(224,224))\n",
        "out_pl"
      ],
      "execution_count": null,
      "outputs": []
    },
    {
      "cell_type": "code",
      "metadata": {
        "id": "V-56zsbCXxjy",
        "outputId": "874e0c03-556e-4026-ca7c-b8bdd6a27e2f",
        "colab": {
          "base_uri": "https://localhost:8080/",
          "height": 17
        }
      },
      "source": [
        "pred,pred_idx,probs = learn_inf.predict(img)"
      ],
      "execution_count": 11,
      "outputs": [
        {
          "output_type": "display_data",
          "data": {
            "text/html": [
              ""
            ],
            "text/plain": [
              "<IPython.core.display.HTML object>"
            ]
          },
          "metadata": {
            "tags": []
          }
        }
      ]
    },
    {
      "cell_type": "code",
      "metadata": {
        "id": "15a3VykGXxj3",
        "outputId": "c54c45c6-9f95-46ae-f244-cd2220878aae",
        "colab": {
          "base_uri": "https://localhost:8080/",
          "height": 48,
          "referenced_widgets": [
            "9e0ef8904fc64f6ca1347ed24e9bb811",
            "867650ee5e3646c4a88ccce17514e465",
            "61c38cb23259484bb11069359d3c0c46"
          ]
        }
      },
      "source": [
        "lbl_pred = widgets.Label()\n",
        "lbl_pred.value = f'Рентгенограмма: {pred}; Вероятность: {probs[pred_idx]:.04f}'\n",
        "lbl_pred"
      ],
      "execution_count": 12,
      "outputs": [
        {
          "output_type": "display_data",
          "data": {
            "application/vnd.jupyter.widget-view+json": {
              "model_id": "9e0ef8904fc64f6ca1347ed24e9bb811",
              "version_minor": 0,
              "version_major": 2
            },
            "text/plain": [
              "Label(value='Рентгенограмма: NORMAL; Вероятность: 0.5839')"
            ]
          },
          "metadata": {
            "tags": []
          }
        }
      ]
    },
    {
      "cell_type": "code",
      "metadata": {
        "id": "-lVal9cCXxj6",
        "outputId": "b7375b87-3c2b-4791-d575-20eb19e1601c",
        "colab": {
          "base_uri": "https://localhost:8080/",
          "height": 49,
          "referenced_widgets": [
            "802dcc3ea15f43e79a6d87f228d15675",
            "77be3c602a9b4b63a034da4bf0ade4e7",
            "650be75d09e348d7ad0d46c31a6d4c5b"
          ]
        }
      },
      "source": [
        "btn_run = widgets.Button(description='Диагностировать')\n",
        "btn_run"
      ],
      "execution_count": 14,
      "outputs": [
        {
          "output_type": "display_data",
          "data": {
            "application/vnd.jupyter.widget-view+json": {
              "model_id": "802dcc3ea15f43e79a6d87f228d15675",
              "version_minor": 0,
              "version_major": 2
            },
            "text/plain": [
              "Button(description='Диагностировать', style=ButtonStyle())"
            ]
          },
          "metadata": {
            "tags": []
          }
        }
      ]
    },
    {
      "cell_type": "markdown",
      "metadata": {
        "id": "_nI10Q0RXxj_"
      },
      "source": [
        "We'll also need a *click event handler*; that is, a function that will be called when it's pressed. We can just copy over the lines of code from above:"
      ]
    },
    {
      "cell_type": "code",
      "metadata": {
        "id": "xbdgwD6rXxkA"
      },
      "source": [
        "def on_click_classify(change):\n",
        "    img = PILImage.create(btn_upload.data[-1])\n",
        "    out_pl.clear_output()\n",
        "    with out_pl: display(img.to_thumb(224,224))\n",
        "    pred,pred_idx,probs = learn_inf.predict(img)\n",
        "    lbl_pred.value = f'Диагноз: {pred}; Вероятность: {probs[pred_idx]:.04f}'\n",
        "\n",
        "btn_run.on_click(on_click_classify)"
      ],
      "execution_count": 15,
      "outputs": []
    },
    {
      "cell_type": "code",
      "metadata": {
        "id": "fTBDfJUwXxkF"
      },
      "source": [
        "btn_upload = widgets.FileUpload()"
      ],
      "execution_count": 16,
      "outputs": []
    },
    {
      "cell_type": "code",
      "metadata": {
        "id": "mQw3T9fbXxkI",
        "outputId": "8a1c3218-d7b6-48d7-e630-d5b2e927f465",
        "colab": {
          "base_uri": "https://localhost:8080/",
          "height": 311,
          "referenced_widgets": [
            "3985d4ce7483476db0ebe0e3e369615a",
            "478f4c6bb56f46c8b996265968bf91a6",
            "f0c9e78759764fe1b7dab238cbe38f73",
            "63aabe144825476bb61aee0bc7f1d7c4",
            "802dcc3ea15f43e79a6d87f228d15675",
            "6c8cfc076fb04cd2939be19c16f8a350",
            "9e0ef8904fc64f6ca1347ed24e9bb811",
            "940c88a44ea3472aa3732a1a457201bd",
            "c94dbb2cc210463988c2709bf218b839",
            "a70bc372ab7f4cbc82f2aa6f820bfa4f",
            "a74905dc19d44017bbac4c54fd235c63",
            "77be3c602a9b4b63a034da4bf0ade4e7",
            "650be75d09e348d7ad0d46c31a6d4c5b",
            "867650ee5e3646c4a88ccce17514e465",
            "61c38cb23259484bb11069359d3c0c46",
            "736a2aef063b457bbcff9c18b168da53"
          ]
        }
      },
      "source": [
        "VBox([widgets.Label('Выбери рентгенограмму'), \n",
        "      btn_upload, btn_run, out_pl, lbl_pred])"
      ],
      "execution_count": 18,
      "outputs": [
        {
          "output_type": "display_data",
          "data": {
            "application/vnd.jupyter.widget-view+json": {
              "model_id": "3985d4ce7483476db0ebe0e3e369615a",
              "version_minor": 0,
              "version_major": 2
            },
            "text/plain": [
              "VBox(children=(Label(value='Выбери рентгенограмму'), FileUpload(value={}, description='Upload'), Button(descri…"
            ]
          },
          "metadata": {
            "tags": []
          }
        },
        {
          "output_type": "display_data",
          "data": {
            "text/html": [
              ""
            ],
            "text/plain": [
              "<IPython.core.display.HTML object>"
            ]
          },
          "metadata": {
            "tags": []
          }
        },
        {
          "output_type": "display_data",
          "data": {
            "text/html": [
              ""
            ],
            "text/plain": [
              "<IPython.core.display.HTML object>"
            ]
          },
          "metadata": {
            "tags": []
          }
        }
      ]
    },
    {
      "cell_type": "code",
      "metadata": {
        "id": "ENwAktQLXxkM"
      },
      "source": [
        "\n",
        "!pip install voila\n",
        "!jupyter serverextension enable voila —sys-prefix"
      ],
      "execution_count": null,
      "outputs": []
    },
    {
      "cell_type": "markdown",
      "metadata": {
        "id": "agYh09GyXxkR"
      },
      "source": [
        "For at least the initial prototype of your application, and for any hobby projects that you want to show off, you can easily host them for free. The best place and the best way to do this will vary over time, so check the [book's website](https://book.fast.ai/) for the most up-to-date recommendations. As we're writing this book in early 2020 the simplest (and free!) approach is to use [Binder](https://mybinder.org/). To publish your web app on Binder, you follow these steps:\n",
        "\n",
        "1. Add your notebook to a [GitHub repository](http://github.com/).\n",
        "2. Paste the URL of that repo into Binder's URL, as shown in <<deploy-binder>>.\n",
        "3. Change the File dropdown to instead select URL.\n",
        "4. In the \"URL to open\" field, enter `/voila/render/name.ipynb` (replacing `name` with the name of for your notebook).\n",
        "5. Click the clickboard button at the bottom right to copyt the URL and paste it somewhere safe. \n",
        "6. Click Launch."
      ]
    }
  ]
}