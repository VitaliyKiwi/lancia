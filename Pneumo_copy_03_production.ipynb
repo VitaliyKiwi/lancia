{
  "nbformat": 4,
  "nbformat_minor": 0,
  "metadata": {
    "jupytext": {
      "split_at_heading": true
    },
    "kernelspec": {
      "display_name": "Python 3",
      "language": "python",
      "name": "python3"
    },
    "language_info": {
      "codemirror_mode": {
        "name": "ipython",
        "version": 3
      },
      "file_extension": ".py",
      "mimetype": "text/x-python",
      "name": "python",
      "nbconvert_exporter": "python",
      "pygments_lexer": "ipython3",
      "version": "3.7.7"
    },
    "toc": {
      "base_numbering": 1,
      "nav_menu": {},
      "number_sections": false,
      "sideBar": true,
      "skip_h1_title": true,
      "title_cell": "Table of Contents",
      "title_sidebar": "Contents",
      "toc_cell": false,
      "toc_position": {},
      "toc_section_display": true,
      "toc_window_display": false
    },
    "colab": {
      "name": "Pneumo copy_03_production.ipynb",
      "provenance": [],
      "collapsed_sections": [],
      "include_colab_link": true
    },
    "widgets": {
      "application/vnd.jupyter.widget-state+json": {
        "789632d1f7af4ca485ff0827c0362a94": {
          "model_module": "@jupyter-widgets/controls",
          "model_name": "FileUploadModel",
          "state": {
            "_view_name": "FileUploadView",
            "_counter": 0,
            "style": "IPY_MODEL_d78ffab877174096aabbe019e9c09249",
            "_dom_classes": [],
            "description": "Upload",
            "multiple": false,
            "_model_name": "FileUploadModel",
            "data": [],
            "button_style": "",
            "_view_module": "@jupyter-widgets/controls",
            "_model_module_version": "1.5.0",
            "accept": "",
            "_view_count": null,
            "disabled": false,
            "_view_module_version": "1.5.0",
            "error": "",
            "description_tooltip": null,
            "metadata": [],
            "_model_module": "@jupyter-widgets/controls",
            "layout": "IPY_MODEL_fd78da6ecc334246b5d956f1e72f1237",
            "icon": "upload"
          }
        },
        "d78ffab877174096aabbe019e9c09249": {
          "model_module": "@jupyter-widgets/controls",
          "model_name": "ButtonStyleModel",
          "state": {
            "_view_name": "StyleView",
            "_model_name": "ButtonStyleModel",
            "_view_module": "@jupyter-widgets/base",
            "_model_module_version": "1.5.0",
            "_view_count": null,
            "button_color": null,
            "font_weight": "",
            "_view_module_version": "1.2.0",
            "_model_module": "@jupyter-widgets/controls"
          }
        },
        "fd78da6ecc334246b5d956f1e72f1237": {
          "model_module": "@jupyter-widgets/base",
          "model_name": "LayoutModel",
          "state": {
            "_view_name": "LayoutView",
            "grid_template_rows": null,
            "right": null,
            "justify_content": null,
            "_view_module": "@jupyter-widgets/base",
            "overflow": null,
            "_model_module_version": "1.2.0",
            "_view_count": null,
            "flex_flow": null,
            "width": null,
            "min_width": null,
            "border": null,
            "align_items": null,
            "bottom": null,
            "_model_module": "@jupyter-widgets/base",
            "top": null,
            "grid_column": null,
            "overflow_y": null,
            "overflow_x": null,
            "grid_auto_flow": null,
            "grid_area": null,
            "grid_template_columns": null,
            "flex": null,
            "_model_name": "LayoutModel",
            "justify_items": null,
            "grid_row": null,
            "max_height": null,
            "align_content": null,
            "visibility": null,
            "align_self": null,
            "height": null,
            "min_height": null,
            "padding": null,
            "grid_auto_rows": null,
            "grid_gap": null,
            "max_width": null,
            "order": null,
            "_view_module_version": "1.2.0",
            "grid_template_areas": null,
            "object_position": null,
            "object_fit": null,
            "grid_auto_columns": null,
            "margin": null,
            "display": null,
            "left": null
          }
        },
        "9e0ef8904fc64f6ca1347ed24e9bb811": {
          "model_module": "@jupyter-widgets/controls",
          "model_name": "LabelModel",
          "state": {
            "_view_name": "LabelView",
            "style": "IPY_MODEL_867650ee5e3646c4a88ccce17514e465",
            "_dom_classes": [],
            "description": "",
            "_model_name": "LabelModel",
            "placeholder": "​",
            "_view_module": "@jupyter-widgets/controls",
            "_model_module_version": "1.5.0",
            "value": "Рентгенограмма: NORMAL; Вероятность: 0.5839",
            "_view_count": null,
            "_view_module_version": "1.5.0",
            "description_tooltip": null,
            "_model_module": "@jupyter-widgets/controls",
            "layout": "IPY_MODEL_61c38cb23259484bb11069359d3c0c46"
          }
        },
        "867650ee5e3646c4a88ccce17514e465": {
          "model_module": "@jupyter-widgets/controls",
          "model_name": "DescriptionStyleModel",
          "state": {
            "_view_name": "StyleView",
            "_model_name": "DescriptionStyleModel",
            "description_width": "",
            "_view_module": "@jupyter-widgets/base",
            "_model_module_version": "1.5.0",
            "_view_count": null,
            "_view_module_version": "1.2.0",
            "_model_module": "@jupyter-widgets/controls"
          }
        },
        "61c38cb23259484bb11069359d3c0c46": {
          "model_module": "@jupyter-widgets/base",
          "model_name": "LayoutModel",
          "state": {
            "_view_name": "LayoutView",
            "grid_template_rows": null,
            "right": null,
            "justify_content": null,
            "_view_module": "@jupyter-widgets/base",
            "overflow": null,
            "_model_module_version": "1.2.0",
            "_view_count": null,
            "flex_flow": null,
            "width": null,
            "min_width": null,
            "border": null,
            "align_items": null,
            "bottom": null,
            "_model_module": "@jupyter-widgets/base",
            "top": null,
            "grid_column": null,
            "overflow_y": null,
            "overflow_x": null,
            "grid_auto_flow": null,
            "grid_area": null,
            "grid_template_columns": null,
            "flex": null,
            "_model_name": "LayoutModel",
            "justify_items": null,
            "grid_row": null,
            "max_height": null,
            "align_content": null,
            "visibility": null,
            "align_self": null,
            "height": null,
            "min_height": null,
            "padding": null,
            "grid_auto_rows": null,
            "grid_gap": null,
            "max_width": null,
            "order": null,
            "_view_module_version": "1.2.0",
            "grid_template_areas": null,
            "object_position": null,
            "object_fit": null,
            "grid_auto_columns": null,
            "margin": null,
            "display": null,
            "left": null
          }
        },
        "802dcc3ea15f43e79a6d87f228d15675": {
          "model_module": "@jupyter-widgets/controls",
          "model_name": "ButtonModel",
          "state": {
            "_view_name": "ButtonView",
            "style": "IPY_MODEL_77be3c602a9b4b63a034da4bf0ade4e7",
            "_dom_classes": [],
            "description": "Диагностировать",
            "_model_name": "ButtonModel",
            "button_style": "",
            "_view_module": "@jupyter-widgets/controls",
            "_model_module_version": "1.5.0",
            "tooltip": "",
            "_view_count": null,
            "disabled": false,
            "_view_module_version": "1.5.0",
            "layout": "IPY_MODEL_650be75d09e348d7ad0d46c31a6d4c5b",
            "_model_module": "@jupyter-widgets/controls",
            "icon": ""
          }
        },
        "77be3c602a9b4b63a034da4bf0ade4e7": {
          "model_module": "@jupyter-widgets/controls",
          "model_name": "ButtonStyleModel",
          "state": {
            "_view_name": "StyleView",
            "_model_name": "ButtonStyleModel",
            "_view_module": "@jupyter-widgets/base",
            "_model_module_version": "1.5.0",
            "_view_count": null,
            "button_color": null,
            "font_weight": "",
            "_view_module_version": "1.2.0",
            "_model_module": "@jupyter-widgets/controls"
          }
        },
        "650be75d09e348d7ad0d46c31a6d4c5b": {
          "model_module": "@jupyter-widgets/base",
          "model_name": "LayoutModel",
          "state": {
            "_view_name": "LayoutView",
            "grid_template_rows": null,
            "right": null,
            "justify_content": null,
            "_view_module": "@jupyter-widgets/base",
            "overflow": null,
            "_model_module_version": "1.2.0",
            "_view_count": null,
            "flex_flow": null,
            "width": null,
            "min_width": null,
            "border": null,
            "align_items": null,
            "bottom": null,
            "_model_module": "@jupyter-widgets/base",
            "top": null,
            "grid_column": null,
            "overflow_y": null,
            "overflow_x": null,
            "grid_auto_flow": null,
            "grid_area": null,
            "grid_template_columns": null,
            "flex": null,
            "_model_name": "LayoutModel",
            "justify_items": null,
            "grid_row": null,
            "max_height": null,
            "align_content": null,
            "visibility": null,
            "align_self": null,
            "height": null,
            "min_height": null,
            "padding": null,
            "grid_auto_rows": null,
            "grid_gap": null,
            "max_width": null,
            "order": null,
            "_view_module_version": "1.2.0",
            "grid_template_areas": null,
            "object_position": null,
            "object_fit": null,
            "grid_auto_columns": null,
            "margin": null,
            "display": null,
            "left": null
          }
        },
        "3985d4ce7483476db0ebe0e3e369615a": {
          "model_module": "@jupyter-widgets/controls",
          "model_name": "VBoxModel",
          "state": {
            "_view_name": "VBoxView",
            "_dom_classes": [],
            "_model_name": "VBoxModel",
            "_view_module": "@jupyter-widgets/controls",
            "_model_module_version": "1.5.0",
            "_view_count": null,
            "_view_module_version": "1.5.0",
            "box_style": "",
            "layout": "IPY_MODEL_478f4c6bb56f46c8b996265968bf91a6",
            "_model_module": "@jupyter-widgets/controls",
            "children": [
              "IPY_MODEL_f0c9e78759764fe1b7dab238cbe38f73",
              "IPY_MODEL_63aabe144825476bb61aee0bc7f1d7c4",
              "IPY_MODEL_802dcc3ea15f43e79a6d87f228d15675",
              "IPY_MODEL_6c8cfc076fb04cd2939be19c16f8a350",
              "IPY_MODEL_9e0ef8904fc64f6ca1347ed24e9bb811"
            ]
          }
        },
        "478f4c6bb56f46c8b996265968bf91a6": {
          "model_module": "@jupyter-widgets/base",
          "model_name": "LayoutModel",
          "state": {
            "_view_name": "LayoutView",
            "grid_template_rows": null,
            "right": null,
            "justify_content": null,
            "_view_module": "@jupyter-widgets/base",
            "overflow": null,
            "_model_module_version": "1.2.0",
            "_view_count": null,
            "flex_flow": null,
            "width": null,
            "min_width": null,
            "border": null,
            "align_items": null,
            "bottom": null,
            "_model_module": "@jupyter-widgets/base",
            "top": null,
            "grid_column": null,
            "overflow_y": null,
            "overflow_x": null,
            "grid_auto_flow": null,
            "grid_area": null,
            "grid_template_columns": null,
            "flex": null,
            "_model_name": "LayoutModel",
            "justify_items": null,
            "grid_row": null,
            "max_height": null,
            "align_content": null,
            "visibility": null,
            "align_self": null,
            "height": null,
            "min_height": null,
            "padding": null,
            "grid_auto_rows": null,
            "grid_gap": null,
            "max_width": null,
            "order": null,
            "_view_module_version": "1.2.0",
            "grid_template_areas": null,
            "object_position": null,
            "object_fit": null,
            "grid_auto_columns": null,
            "margin": null,
            "display": null,
            "left": null
          }
        },
        "f0c9e78759764fe1b7dab238cbe38f73": {
          "model_module": "@jupyter-widgets/controls",
          "model_name": "LabelModel",
          "state": {
            "_view_name": "LabelView",
            "style": "IPY_MODEL_940c88a44ea3472aa3732a1a457201bd",
            "_dom_classes": [],
            "description": "",
            "_model_name": "LabelModel",
            "placeholder": "​",
            "_view_module": "@jupyter-widgets/controls",
            "_model_module_version": "1.5.0",
            "value": "Выбери рентгенограмму",
            "_view_count": null,
            "_view_module_version": "1.5.0",
            "description_tooltip": null,
            "_model_module": "@jupyter-widgets/controls",
            "layout": "IPY_MODEL_c94dbb2cc210463988c2709bf218b839"
          }
        },
        "63aabe144825476bb61aee0bc7f1d7c4": {
          "model_module": "@jupyter-widgets/controls",
          "model_name": "FileUploadModel",
          "state": {
            "_view_name": "FileUploadView",
            "_counter": 0,
            "style": "IPY_MODEL_a70bc372ab7f4cbc82f2aa6f820bfa4f",
            "_dom_classes": [],
            "description": "Upload",
            "multiple": false,
            "_model_name": "FileUploadModel",
            "data": [],
            "button_style": "",
            "_view_module": "@jupyter-widgets/controls",
            "_model_module_version": "1.5.0",
            "accept": "",
            "_view_count": null,
            "disabled": false,
            "_view_module_version": "1.5.0",
            "error": "",
            "description_tooltip": null,
            "metadata": [],
            "_model_module": "@jupyter-widgets/controls",
            "layout": "IPY_MODEL_a74905dc19d44017bbac4c54fd235c63",
            "icon": "upload"
          }
        },
        "6c8cfc076fb04cd2939be19c16f8a350": {
          "model_module": "@jupyter-widgets/output",
          "model_name": "OutputModel",
          "state": {
            "_view_name": "OutputView",
            "msg_id": "",
            "_dom_classes": [],
            "_model_name": "OutputModel",
            "outputs": [
              {
                "output_type": "display_data",
                "metadata": {
                  "tags": []
                },
                "image/png": "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\n",
                "text/plain": "<PIL.Image.Image image mode=RGB size=224x155 at 0x7FEF4034DCF8>"
              }
            ],
            "_view_module": "@jupyter-widgets/output",
            "_model_module_version": "1.0.0",
            "_view_count": null,
            "_view_module_version": "1.0.0",
            "layout": "IPY_MODEL_736a2aef063b457bbcff9c18b168da53",
            "_model_module": "@jupyter-widgets/output"
          }
        },
        "940c88a44ea3472aa3732a1a457201bd": {
          "model_module": "@jupyter-widgets/controls",
          "model_name": "DescriptionStyleModel",
          "state": {
            "_view_name": "StyleView",
            "_model_name": "DescriptionStyleModel",
            "description_width": "",
            "_view_module": "@jupyter-widgets/base",
            "_model_module_version": "1.5.0",
            "_view_count": null,
            "_view_module_version": "1.2.0",
            "_model_module": "@jupyter-widgets/controls"
          }
        },
        "c94dbb2cc210463988c2709bf218b839": {
          "model_module": "@jupyter-widgets/base",
          "model_name": "LayoutModel",
          "state": {
            "_view_name": "LayoutView",
            "grid_template_rows": null,
            "right": null,
            "justify_content": null,
            "_view_module": "@jupyter-widgets/base",
            "overflow": null,
            "_model_module_version": "1.2.0",
            "_view_count": null,
            "flex_flow": null,
            "width": null,
            "min_width": null,
            "border": null,
            "align_items": null,
            "bottom": null,
            "_model_module": "@jupyter-widgets/base",
            "top": null,
            "grid_column": null,
            "overflow_y": null,
            "overflow_x": null,
            "grid_auto_flow": null,
            "grid_area": null,
            "grid_template_columns": null,
            "flex": null,
            "_model_name": "LayoutModel",
            "justify_items": null,
            "grid_row": null,
            "max_height": null,
            "align_content": null,
            "visibility": null,
            "align_self": null,
            "height": null,
            "min_height": null,
            "padding": null,
            "grid_auto_rows": null,
            "grid_gap": null,
            "max_width": null,
            "order": null,
            "_view_module_version": "1.2.0",
            "grid_template_areas": null,
            "object_position": null,
            "object_fit": null,
            "grid_auto_columns": null,
            "margin": null,
            "display": null,
            "left": null
          }
        },
        "a70bc372ab7f4cbc82f2aa6f820bfa4f": {
          "model_module": "@jupyter-widgets/controls",
          "model_name": "ButtonStyleModel",
          "state": {
            "_view_name": "StyleView",
            "_model_name": "ButtonStyleModel",
            "_view_module": "@jupyter-widgets/base",
            "_model_module_version": "1.5.0",
            "_view_count": null,
            "button_color": null,
            "font_weight": "",
            "_view_module_version": "1.2.0",
            "_model_module": "@jupyter-widgets/controls"
          }
        },
        "a74905dc19d44017bbac4c54fd235c63": {
          "model_module": "@jupyter-widgets/base",
          "model_name": "LayoutModel",
          "state": {
            "_view_name": "LayoutView",
            "grid_template_rows": null,
            "right": null,
            "justify_content": null,
            "_view_module": "@jupyter-widgets/base",
            "overflow": null,
            "_model_module_version": "1.2.0",
            "_view_count": null,
            "flex_flow": null,
            "width": null,
            "min_width": null,
            "border": null,
            "align_items": null,
            "bottom": null,
            "_model_module": "@jupyter-widgets/base",
            "top": null,
            "grid_column": null,
            "overflow_y": null,
            "overflow_x": null,
            "grid_auto_flow": null,
            "grid_area": null,
            "grid_template_columns": null,
            "flex": null,
            "_model_name": "LayoutModel",
            "justify_items": null,
            "grid_row": null,
            "max_height": null,
            "align_content": null,
            "visibility": null,
            "align_self": null,
            "height": null,
            "min_height": null,
            "padding": null,
            "grid_auto_rows": null,
            "grid_gap": null,
            "max_width": null,
            "order": null,
            "_view_module_version": "1.2.0",
            "grid_template_areas": null,
            "object_position": null,
            "object_fit": null,
            "grid_auto_columns": null,
            "margin": null,
            "display": null,
            "left": null
          }
        },
        "736a2aef063b457bbcff9c18b168da53": {
          "model_module": "@jupyter-widgets/base",
          "model_name": "LayoutModel",
          "state": {
            "_view_name": "LayoutView",
            "grid_template_rows": null,
            "right": null,
            "justify_content": null,
            "_view_module": "@jupyter-widgets/base",
            "overflow": null,
            "_model_module_version": "1.2.0",
            "_view_count": null,
            "flex_flow": null,
            "width": null,
            "min_width": null,
            "border": null,
            "align_items": null,
            "bottom": null,
            "_model_module": "@jupyter-widgets/base",
            "top": null,
            "grid_column": null,
            "overflow_y": null,
            "overflow_x": null,
            "grid_auto_flow": null,
            "grid_area": null,
            "grid_template_columns": null,
            "flex": null,
            "_model_name": "LayoutModel",
            "justify_items": null,
            "grid_row": null,
            "max_height": null,
            "align_content": null,
            "visibility": null,
            "align_self": null,
            "height": null,
            "min_height": null,
            "padding": null,
            "grid_auto_rows": null,
            "grid_gap": null,
            "max_width": null,
            "order": null,
            "_view_module_version": "1.2.0",
            "grid_template_areas": null,
            "object_position": null,
            "object_fit": null,
            "grid_auto_columns": null,
            "margin": null,
            "display": null,
            "left": null
          }
        }
      }
    }
  },
  "cells": [
    {
      "cell_type": "markdown",
      "metadata": {
        "id": "view-in-github",
        "colab_type": "text"
      },
      "source": [
        "<a href=\"https://colab.research.google.com/github/VitaliyKiwi/lancia/blob/master/Pneumo_copy_03_production.ipynb\" target=\"_parent\"><img src=\"https://colab.research.google.com/assets/colab-badge.svg\" alt=\"Open In Colab\"/></a>"
      ]
    },
    {
      "cell_type": "code",
      "metadata": {
        "id": "sweBycXhXxgb",
        "outputId": "46814609-241c-40c4-b5ca-695f705289d3",
        "colab": {
          "base_uri": "https://localhost:8080/"
        }
      },
      "source": [
        "#hide\n",
        "!pip install -Uqq fastbook\n",
        "import fastbook\n",
        "fastbook.setup_book()"
      ],
      "execution_count": 1,
      "outputs": [
        {
          "output_type": "stream",
          "text": [
            "\u001b[K     |████████████████████████████████| 727kB 3.5MB/s \n",
            "\u001b[K     |████████████████████████████████| 51kB 5.6MB/s \n",
            "\u001b[K     |████████████████████████████████| 1.1MB 18.9MB/s \n",
            "\u001b[K     |████████████████████████████████| 51kB 6.0MB/s \n",
            "\u001b[K     |████████████████████████████████| 194kB 26.3MB/s \n",
            "\u001b[K     |████████████████████████████████| 51kB 5.6MB/s \n",
            "\u001b[K     |████████████████████████████████| 92kB 8.5MB/s \n",
            "\u001b[K     |████████████████████████████████| 40kB 4.4MB/s \n",
            "\u001b[K     |████████████████████████████████| 51kB 6.1MB/s \n",
            "\u001b[K     |████████████████████████████████| 61kB 6.7MB/s \n",
            "\u001b[K     |████████████████████████████████| 2.6MB 25.9MB/s \n",
            "\u001b[?25hMounted at /content/gdrive\n"
          ],
          "name": "stdout"
        }
      ]
    },
    {
      "cell_type": "code",
      "metadata": {
        "id": "YnluiBwcXxgi"
      },
      "source": [
        "from fastbook import *\n",
        "from fastai.vision.widgets import *"
      ],
      "execution_count": 2,
      "outputs": []
    },
    {
      "cell_type": "code",
      "metadata": {
        "id": "tk4W2c5FvC3J"
      },
      "source": [
        "import os\n",
        "from PIL import Image"
      ],
      "execution_count": 3,
      "outputs": []
    },
    {
      "cell_type": "markdown",
      "metadata": {
        "id": "UUdrElIsTt6p"
      },
      "source": [
        "Use\n"
      ]
    },
    {
      "cell_type": "code",
      "metadata": {
        "id": "k_6bCddhXxjU"
      },
      "source": [
        "learn_inf = load_learner('/content/gdrive/My Drive/AI_Project/chest/export50.pkl')"
      ],
      "execution_count": 4,
      "outputs": []
    },
    {
      "cell_type": "code",
      "metadata": {
        "id": "fXxVoHrvXxjY"
      },
      "source": [
        "learn_inf.predict('/content/gdrive/My Drive/AI_Project/chest/val/PNEUMONIA/person1954_bacteria_4886.jpeg')"
      ],
      "execution_count": null,
      "outputs": []
    },
    {
      "cell_type": "code",
      "metadata": {
        "id": "mpaD4YvNXxjc",
        "outputId": "07666455-0536-473d-da4b-596a382e94f2",
        "colab": {
          "base_uri": "https://localhost:8080/"
        }
      },
      "source": [
        "learn_inf.dls.vocab"
      ],
      "execution_count": 6,
      "outputs": [
        {
          "output_type": "execute_result",
          "data": {
            "text/plain": [
              "['NORMAL', 'PNEUMONIA']"
            ]
          },
          "metadata": {
            "tags": []
          },
          "execution_count": 6
        }
      ]
    },
    {
      "cell_type": "code",
      "metadata": {
        "id": "q9h9lSFMXxji",
        "outputId": "d29b72c0-d35d-4b85-a253-e86d9cca1541",
        "colab": {
          "base_uri": "https://localhost:8080/",
          "height": 49,
          "referenced_widgets": [
            "789632d1f7af4ca485ff0827c0362a94",
            "d78ffab877174096aabbe019e9c09249",
            "fd78da6ecc334246b5d956f1e72f1237"
          ]
        }
      },
      "source": [
        "btn_upload = widgets.FileUpload()\n",
        "btn_upload"
      ],
      "execution_count": 7,
      "outputs": [
        {
          "output_type": "display_data",
          "data": {
            "application/vnd.jupyter.widget-view+json": {
              "model_id": "789632d1f7af4ca485ff0827c0362a94",
              "version_minor": 0,
              "version_major": 2
            },
            "text/plain": [
              "FileUpload(value={}, description='Upload')"
            ]
          },
          "metadata": {
            "tags": []
          }
        }
      ]
    },
    {
      "cell_type": "code",
      "metadata": {
        "hide_input": true,
        "id": "bZIeebp-Xxjm"
      },
      "source": [
        "btn_upload = SimpleNamespace(data = ['/content/gdrive/My Drive/AI_lancia/lancia/epsilon/00000006.jpg'])"
      ],
      "execution_count": 8,
      "outputs": []
    },
    {
      "cell_type": "code",
      "metadata": {
        "id": "F82AcpFkXxjp"
      },
      "source": [
        "img = PILImage.create(btn_upload.data[-1])"
      ],
      "execution_count": 9,
      "outputs": []
    },
    {
      "cell_type": "code",
      "metadata": {
        "id": "kXlVzvc8Xxju"
      },
      "source": [
        "out_pl = widgets.Output()\n",
        "out_pl.clear_output()\n",
        "with out_pl: display(img.to_thumb(224,224))\n",
        "out_pl"
      ],
      "execution_count": null,
      "outputs": []
    },
    {
      "cell_type": "code",
      "metadata": {
        "id": "V-56zsbCXxjy",
        "outputId": "874e0c03-556e-4026-ca7c-b8bdd6a27e2f",
        "colab": {
          "base_uri": "https://localhost:8080/",
          "height": 17
        }
      },
      "source": [
        "pred,pred_idx,probs = learn_inf.predict(img)"
      ],
      "execution_count": 11,
      "outputs": [
        {
          "output_type": "display_data",
          "data": {
            "text/html": [
              ""
            ],
            "text/plain": [
              "<IPython.core.display.HTML object>"
            ]
          },
          "metadata": {
            "tags": []
          }
        }
      ]
    },
    {
      "cell_type": "code",
      "metadata": {
        "id": "15a3VykGXxj3",
        "outputId": "c54c45c6-9f95-46ae-f244-cd2220878aae",
        "colab": {
          "base_uri": "https://localhost:8080/",
          "height": 48,
          "referenced_widgets": [
            "9e0ef8904fc64f6ca1347ed24e9bb811",
            "867650ee5e3646c4a88ccce17514e465",
            "61c38cb23259484bb11069359d3c0c46"
          ]
        }
      },
      "source": [
        "lbl_pred = widgets.Label()\n",
        "lbl_pred.value = f'Рентгенограмма: {pred}; Вероятность: {probs[pred_idx]:.04f}'\n",
        "lbl_pred"
      ],
      "execution_count": 12,
      "outputs": [
        {
          "output_type": "display_data",
          "data": {
            "application/vnd.jupyter.widget-view+json": {
              "model_id": "9e0ef8904fc64f6ca1347ed24e9bb811",
              "version_minor": 0,
              "version_major": 2
            },
            "text/plain": [
              "Label(value='Рентгенограмма: NORMAL; Вероятность: 0.5839')"
            ]
          },
          "metadata": {
            "tags": []
          }
        }
      ]
    },
    {
      "cell_type": "code",
      "metadata": {
        "id": "-lVal9cCXxj6",
        "outputId": "b7375b87-3c2b-4791-d575-20eb19e1601c",
        "colab": {
          "base_uri": "https://localhost:8080/",
          "height": 49,
          "referenced_widgets": [
            "802dcc3ea15f43e79a6d87f228d15675",
            "77be3c602a9b4b63a034da4bf0ade4e7",
            "650be75d09e348d7ad0d46c31a6d4c5b"
          ]
        }
      },
      "source": [
        "btn_run = widgets.Button(description='Диагностировать')\n",
        "btn_run"
      ],
      "execution_count": 14,
      "outputs": [
        {
          "output_type": "display_data",
          "data": {
            "application/vnd.jupyter.widget-view+json": {
              "model_id": "802dcc3ea15f43e79a6d87f228d15675",
              "version_minor": 0,
              "version_major": 2
            },
            "text/plain": [
              "Button(description='Диагностировать', style=ButtonStyle())"
            ]
          },
          "metadata": {
            "tags": []
          }
        }
      ]
    },
    {
      "cell_type": "markdown",
      "metadata": {
        "id": "_nI10Q0RXxj_"
      },
      "source": [
        "We'll also need a *click event handler*; that is, a function that will be called when it's pressed. We can just copy over the lines of code from above:"
      ]
    },
    {
      "cell_type": "code",
      "metadata": {
        "id": "xbdgwD6rXxkA"
      },
      "source": [
        "def on_click_classify(change):\n",
        "    img = PILImage.create(btn_upload.data[-1])\n",
        "    out_pl.clear_output()\n",
        "    with out_pl: display(img.to_thumb(224,224))\n",
        "    pred,pred_idx,probs = learn_inf.predict(img)\n",
        "    lbl_pred.value = f'Диагноз: {pred}; Вероятность: {probs[pred_idx]:.04f}'\n",
        "\n",
        "btn_run.on_click(on_click_classify)"
      ],
      "execution_count": 15,
      "outputs": []
    },
    {
      "cell_type": "code",
      "metadata": {
        "id": "fTBDfJUwXxkF"
      },
      "source": [
        "btn_upload = widgets.FileUpload()"
      ],
      "execution_count": 16,
      "outputs": []
    },
    {
      "cell_type": "code",
      "metadata": {
        "id": "mQw3T9fbXxkI",
        "outputId": "8a1c3218-d7b6-48d7-e630-d5b2e927f465",
        "colab": {
          "base_uri": "https://localhost:8080/",
          "height": 300,
          "referenced_widgets": [
            "3985d4ce7483476db0ebe0e3e369615a",
            "478f4c6bb56f46c8b996265968bf91a6",
            "f0c9e78759764fe1b7dab238cbe38f73",
            "63aabe144825476bb61aee0bc7f1d7c4",
            "802dcc3ea15f43e79a6d87f228d15675",
            "6c8cfc076fb04cd2939be19c16f8a350",
            "9e0ef8904fc64f6ca1347ed24e9bb811",
            "940c88a44ea3472aa3732a1a457201bd",
            "c94dbb2cc210463988c2709bf218b839",
            "a70bc372ab7f4cbc82f2aa6f820bfa4f",
            "a74905dc19d44017bbac4c54fd235c63",
            "77be3c602a9b4b63a034da4bf0ade4e7",
            "650be75d09e348d7ad0d46c31a6d4c5b",
            "867650ee5e3646c4a88ccce17514e465",
            "61c38cb23259484bb11069359d3c0c46",
            "736a2aef063b457bbcff9c18b168da53"
          ]
        }
      },
      "source": [
        "VBox([widgets.Label('Выбери рентгенограмму'), \n",
        "      btn_upload, btn_run, out_pl, lbl_pred])"
      ],
      "execution_count": 18,
      "outputs": [
        {
          "output_type": "display_data",
          "data": {
            "application/vnd.jupyter.widget-view+json": {
              "model_id": "3985d4ce7483476db0ebe0e3e369615a",
              "version_minor": 0,
              "version_major": 2
            },
            "text/plain": [
              "VBox(children=(Label(value='Выбери рентгенограмму'), FileUpload(value={}, description='Upload'), Button(descri…"
            ]
          },
          "metadata": {
            "tags": []
          }
        }
      ]
    },
    {
      "cell_type": "code",
      "metadata": {
        "id": "ENwAktQLXxkM",
        "outputId": "9eca41aa-6b52-4733-e658-2ffc1819d231",
        "colab": {
          "base_uri": "https://localhost:8080/",
          "height": 1000
        }
      },
      "source": [
        "\n",
        "!pip install voila\n",
        "!jupyter serverextension enable voila —sys-prefix"
      ],
      "execution_count": 19,
      "outputs": [
        {
          "output_type": "stream",
          "text": [
            "Collecting voila\n",
            "\u001b[?25l  Downloading https://files.pythonhosted.org/packages/50/7d/ef470f3d3c574162bb8705b264f4cb47eac8c923f6bf1e37283f871ead6a/voila-0.2.4-py3-none-any.whl (1.9MB)\n",
            "\u001b[K     |████████████████████████████████| 1.9MB 3.3MB/s \n",
            "\u001b[?25hCollecting jupyter-server<2.0.0,>=0.3.0\n",
            "\u001b[?25l  Downloading https://files.pythonhosted.org/packages/34/3f/627202d2a042c2b1f1f4d9ebc8a932fb06e0a2dee06ebcf0bbca92011ffb/jupyter_server-1.0.5-py3-none-any.whl (196kB)\n",
            "\u001b[K     |████████████████████████████████| 204kB 28.1MB/s \n",
            "\u001b[?25hCollecting nbconvert<7,>=6.0.0\n",
            "\u001b[?25l  Downloading https://files.pythonhosted.org/packages/13/2f/acbe7006548f3914456ee47f97a2033b1b2f3daf921b12ac94105d87c163/nbconvert-6.0.7-py3-none-any.whl (552kB)\n",
            "\u001b[K     |████████████████████████████████| 552kB 24.7MB/s \n",
            "\u001b[?25hRequirement already satisfied: nbclient<0.6,>=0.4.0 in /usr/local/lib/python3.6/dist-packages (from voila) (0.5.1)\n",
            "Collecting jupyter-client<7,>=6.1.3\n",
            "\u001b[?25l  Downloading https://files.pythonhosted.org/packages/dc/41/9fa443d5ae8907dd8f7d12146cb0092dc053afd67b5b57e7e8786a328547/jupyter_client-6.1.7-py3-none-any.whl (108kB)\n",
            "\u001b[K     |████████████████████████████████| 112kB 32.4MB/s \n",
            "\u001b[?25hRequirement already satisfied: terminado>=0.8.3 in /usr/local/lib/python3.6/dist-packages (from jupyter-server<2.0.0,>=0.3.0->voila) (0.9.1)\n",
            "Requirement already satisfied: jupyter-core>=4.4.0 in /usr/local/lib/python3.6/dist-packages (from jupyter-server<2.0.0,>=0.3.0->voila) (4.6.3)\n",
            "Requirement already satisfied: prometheus-client in /usr/local/lib/python3.6/dist-packages (from jupyter-server<2.0.0,>=0.3.0->voila) (0.8.0)\n",
            "Requirement already satisfied: tornado>=5.0 in /usr/local/lib/python3.6/dist-packages (from jupyter-server<2.0.0,>=0.3.0->voila) (5.1.1)\n",
            "Requirement already satisfied: jinja2 in /usr/local/lib/python3.6/dist-packages (from jupyter-server<2.0.0,>=0.3.0->voila) (2.11.2)\n",
            "Requirement already satisfied: pyzmq>=17 in /usr/local/lib/python3.6/dist-packages (from jupyter-server<2.0.0,>=0.3.0->voila) (19.0.2)\n",
            "Requirement already satisfied: nbformat in /usr/local/lib/python3.6/dist-packages (from jupyter-server<2.0.0,>=0.3.0->voila) (5.0.8)\n",
            "Requirement already satisfied: Send2Trash in /usr/local/lib/python3.6/dist-packages (from jupyter-server<2.0.0,>=0.3.0->voila) (1.5.0)\n",
            "Requirement already satisfied: ipython-genutils in /usr/local/lib/python3.6/dist-packages (from jupyter-server<2.0.0,>=0.3.0->voila) (0.2.0)\n",
            "Requirement already satisfied: traitlets>=4.2.1 in /usr/local/lib/python3.6/dist-packages (from jupyter-server<2.0.0,>=0.3.0->voila) (4.3.3)\n",
            "Requirement already satisfied: bleach in /usr/local/lib/python3.6/dist-packages (from nbconvert<7,>=6.0.0->voila) (3.2.1)\n",
            "Requirement already satisfied: defusedxml in /usr/local/lib/python3.6/dist-packages (from nbconvert<7,>=6.0.0->voila) (0.6.0)\n",
            "Requirement already satisfied: testpath in /usr/local/lib/python3.6/dist-packages (from nbconvert<7,>=6.0.0->voila) (0.4.4)\n",
            "Requirement already satisfied: pandocfilters>=1.4.1 in /usr/local/lib/python3.6/dist-packages (from nbconvert<7,>=6.0.0->voila) (1.4.2)\n",
            "Requirement already satisfied: mistune<2,>=0.8.1 in /usr/local/lib/python3.6/dist-packages (from nbconvert<7,>=6.0.0->voila) (0.8.4)\n",
            "Requirement already satisfied: pygments>=2.4.1 in /usr/local/lib/python3.6/dist-packages (from nbconvert<7,>=6.0.0->voila) (2.6.1)\n",
            "Requirement already satisfied: entrypoints>=0.2.2 in /usr/local/lib/python3.6/dist-packages (from nbconvert<7,>=6.0.0->voila) (0.3)\n",
            "Requirement already satisfied: jupyterlab-pygments in /usr/local/lib/python3.6/dist-packages (from nbconvert<7,>=6.0.0->voila) (0.1.2)\n",
            "Requirement already satisfied: nest-asyncio in /usr/local/lib/python3.6/dist-packages (from nbclient<0.6,>=0.4.0->voila) (1.4.2)\n",
            "Requirement already satisfied: async-generator in /usr/local/lib/python3.6/dist-packages (from nbclient<0.6,>=0.4.0->voila) (1.10)\n",
            "Requirement already satisfied: python-dateutil>=2.1 in /usr/local/lib/python3.6/dist-packages (from jupyter-client<7,>=6.1.3->voila) (2.8.1)\n",
            "Requirement already satisfied: ptyprocess; os_name != \"nt\" in /usr/local/lib/python3.6/dist-packages (from terminado>=0.8.3->jupyter-server<2.0.0,>=0.3.0->voila) (0.6.0)\n",
            "Requirement already satisfied: MarkupSafe>=0.23 in /usr/local/lib/python3.6/dist-packages (from jinja2->jupyter-server<2.0.0,>=0.3.0->voila) (1.1.1)\n",
            "Requirement already satisfied: jsonschema!=2.5.0,>=2.4 in /usr/local/lib/python3.6/dist-packages (from nbformat->jupyter-server<2.0.0,>=0.3.0->voila) (2.6.0)\n",
            "Requirement already satisfied: six in /usr/local/lib/python3.6/dist-packages (from traitlets>=4.2.1->jupyter-server<2.0.0,>=0.3.0->voila) (1.15.0)\n",
            "Requirement already satisfied: decorator in /usr/local/lib/python3.6/dist-packages (from traitlets>=4.2.1->jupyter-server<2.0.0,>=0.3.0->voila) (4.4.2)\n",
            "Requirement already satisfied: packaging in /usr/local/lib/python3.6/dist-packages (from bleach->nbconvert<7,>=6.0.0->voila) (20.4)\n",
            "Requirement already satisfied: webencodings in /usr/local/lib/python3.6/dist-packages (from bleach->nbconvert<7,>=6.0.0->voila) (0.5.1)\n",
            "Requirement already satisfied: pyparsing>=2.0.2 in /usr/local/lib/python3.6/dist-packages (from packaging->bleach->nbconvert<7,>=6.0.0->voila) (2.4.7)\n",
            "\u001b[31mERROR: nbdev 1.1.4 has requirement nbconvert<6, but you'll have nbconvert 6.0.7 which is incompatible.\u001b[0m\n",
            "Installing collected packages: jupyter-client, nbconvert, jupyter-server, voila\n",
            "  Found existing installation: jupyter-client 5.3.5\n",
            "    Uninstalling jupyter-client-5.3.5:\n",
            "      Successfully uninstalled jupyter-client-5.3.5\n",
            "  Found existing installation: nbconvert 5.6.1\n",
            "    Uninstalling nbconvert-5.6.1:\n",
            "      Successfully uninstalled nbconvert-5.6.1\n",
            "Successfully installed jupyter-client-6.1.7 jupyter-server-1.0.5 nbconvert-6.0.7 voila-0.2.4\n"
          ],
          "name": "stdout"
        },
        {
          "output_type": "display_data",
          "data": {
            "application/vnd.colab-display-data+json": {
              "pip_warning": {
                "packages": [
                  "jupyter_client",
                  "nbconvert"
                ]
              }
            }
          },
          "metadata": {
            "tags": []
          }
        },
        {
          "output_type": "stream",
          "text": [
            "Enabling: voila\n",
            "- Writing config: /root/.jupyter\n",
            "    - Validating...\n",
            "Error loading server extension voila\n",
            "     \u001b[31m X\u001b[0m is voila importable?\n",
            "Enabling: —sys-prefix\n",
            "- Writing config: /root/.jupyter\n",
            "    - Validating...\n",
            "Error loading server extension —sys-prefix\n",
            "     \u001b[31m X\u001b[0m is —sys-prefix importable?\n"
          ],
          "name": "stdout"
        }
      ]
    },
    {
      "cell_type": "markdown",
      "metadata": {
        "id": "agYh09GyXxkR"
      },
      "source": [
        "For at least the initial prototype of your application, and for any hobby projects that you want to show off, you can easily host them for free. The best place and the best way to do this will vary over time, so check the [book's website](https://book.fast.ai/) for the most up-to-date recommendations. As we're writing this book in early 2020 the simplest (and free!) approach is to use [Binder](https://mybinder.org/). To publish your web app on Binder, you follow these steps:\n",
        "\n",
        "1. Add your notebook to a [GitHub repository](http://github.com/).\n",
        "2. Paste the URL of that repo into Binder's URL, as shown in <<deploy-binder>>.\n",
        "3. Change the File dropdown to instead select URL.\n",
        "4. In the \"URL to open\" field, enter `/voila/render/name.ipynb` (replacing `name` with the name of for your notebook).\n",
        "5. Click the clickboard button at the bottom right to copyt the URL and paste it somewhere safe. \n",
        "6. Click Launch."
      ]
    }
  ]
}