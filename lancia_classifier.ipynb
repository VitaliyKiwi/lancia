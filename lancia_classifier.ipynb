{
  "nbformat": 4,
  "nbformat_minor": 0,
  "metadata": {
    "colab": {
      "name": "lancia_classifier.ipynb",
      "provenance": [],
      "include_colab_link": true
    },
    "kernelspec": {
      "name": "python3",
      "display_name": "Python 3"
    },
    "widgets": {
      "application/vnd.jupyter.widget-state+json": {
        "f7b0053ce58e433195c8fa0827619d22": {
          "model_module": "@jupyter-widgets/controls",
          "model_name": "VBoxModel",
          "state": {
            "_view_name": "VBoxView",
            "_dom_classes": [],
            "_model_name": "VBoxModel",
            "_view_module": "@jupyter-widgets/controls",
            "_model_module_version": "1.5.0",
            "_view_count": null,
            "_view_module_version": "1.5.0",
            "box_style": "",
            "layout": "IPY_MODEL_c8d746b4636b44029f6db2ff38c8e842",
            "_model_module": "@jupyter-widgets/controls",
            "children": [
              "IPY_MODEL_9309e2cb30d44d598934c527236acf97",
              "IPY_MODEL_036e52863f0e4bdd8872ef514eb5681f",
              "IPY_MODEL_cb17861762b740eeb771bdc33cd5e880",
              "IPY_MODEL_c15279834b1e41baa65cf6c04c5d2b81"
            ]
          }
        },
        "c8d746b4636b44029f6db2ff38c8e842": {
          "model_module": "@jupyter-widgets/base",
          "model_name": "LayoutModel",
          "state": {
            "_view_name": "LayoutView",
            "grid_template_rows": null,
            "right": null,
            "justify_content": null,
            "_view_module": "@jupyter-widgets/base",
            "overflow": null,
            "_model_module_version": "1.2.0",
            "_view_count": null,
            "flex_flow": null,
            "width": null,
            "min_width": null,
            "border": null,
            "align_items": null,
            "bottom": null,
            "_model_module": "@jupyter-widgets/base",
            "top": null,
            "grid_column": null,
            "overflow_y": null,
            "overflow_x": null,
            "grid_auto_flow": null,
            "grid_area": null,
            "grid_template_columns": null,
            "flex": null,
            "_model_name": "LayoutModel",
            "justify_items": null,
            "grid_row": null,
            "max_height": null,
            "align_content": null,
            "visibility": null,
            "align_self": null,
            "height": null,
            "min_height": null,
            "padding": null,
            "grid_auto_rows": null,
            "grid_gap": null,
            "max_width": null,
            "order": null,
            "_view_module_version": "1.2.0",
            "grid_template_areas": null,
            "object_position": null,
            "object_fit": null,
            "grid_auto_columns": null,
            "margin": null,
            "display": null,
            "left": null
          }
        },
        "9309e2cb30d44d598934c527236acf97": {
          "model_module": "@jupyter-widgets/controls",
          "model_name": "LabelModel",
          "state": {
            "_view_name": "LabelView",
            "style": "IPY_MODEL_f431271bbb1f47388a6763ffd749bae9",
            "_dom_classes": [],
            "description": "",
            "_model_name": "LabelModel",
            "placeholder": "​",
            "_view_module": "@jupyter-widgets/controls",
            "_model_module_version": "1.5.0",
            "value": "Выбери автомобиль!",
            "_view_count": null,
            "_view_module_version": "1.5.0",
            "description_tooltip": null,
            "_model_module": "@jupyter-widgets/controls",
            "layout": "IPY_MODEL_447402c6afb34244a2705438cf4805ec"
          }
        },
        "036e52863f0e4bdd8872ef514eb5681f": {
          "model_module": "@jupyter-widgets/controls",
          "model_name": "FileUploadModel",
          "state": {
            "_view_name": "FileUploadView",
            "_counter": 1,
            "style": "IPY_MODEL_ac31bb7a23d241f3b560658d8898f302",
            "_dom_classes": [],
            "description": "Upload",
            "multiple": false,
            "_model_name": "FileUploadModel",
            "data": [
              null
            ],
            "button_style": "",
            "_view_module": "@jupyter-widgets/controls",
            "_model_module_version": "1.5.0",
            "accept": "",
            "_view_count": null,
            "disabled": false,
            "_view_module_version": "1.5.0",
            "error": "",
            "description_tooltip": null,
            "metadata": [
              {
                "name": "qqq.jpg",
                "type": "image/jpeg",
                "size": 123199,
                "lastModified": 1600347334662
              }
            ],
            "_model_module": "@jupyter-widgets/controls",
            "layout": "IPY_MODEL_4ef47cd71964473db404fd63c5311feb",
            "icon": "upload"
          }
        },
        "cb17861762b740eeb771bdc33cd5e880": {
          "model_module": "@jupyter-widgets/output",
          "model_name": "OutputModel",
          "state": {
            "_view_name": "OutputView",
            "msg_id": "",
            "_dom_classes": [],
            "_model_name": "OutputModel",
            "outputs": [
              {
                "output_type": "display_data",
                "metadata": {
                  "tags": []
                },
                "image/png": "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\n",
                "text/plain": "<PIL.Image.Image image mode=RGB size=128x51 at 0x7F6D26690D30>"
              }
            ],
            "_view_module": "@jupyter-widgets/output",
            "_model_module_version": "1.0.0",
            "_view_count": null,
            "_view_module_version": "1.0.0",
            "layout": "IPY_MODEL_0e158a38374a4963b8947e8d4df1e7d5",
            "_model_module": "@jupyter-widgets/output"
          }
        },
        "c15279834b1e41baa65cf6c04c5d2b81": {
          "model_module": "@jupyter-widgets/controls",
          "model_name": "LabelModel",
          "state": {
            "_view_name": "LabelView",
            "style": "IPY_MODEL_da7c5cad451f42daaba553a24322df23",
            "_dom_classes": [],
            "description": "",
            "_model_name": "LabelModel",
            "placeholder": "​",
            "_view_module": "@jupyter-widgets/controls",
            "_model_module_version": "1.5.0",
            "value": "",
            "_view_count": null,
            "_view_module_version": "1.5.0",
            "description_tooltip": null,
            "_model_module": "@jupyter-widgets/controls",
            "layout": "IPY_MODEL_c366031579664c23a14bdcd61a5cca07"
          }
        },
        "f431271bbb1f47388a6763ffd749bae9": {
          "model_module": "@jupyter-widgets/controls",
          "model_name": "DescriptionStyleModel",
          "state": {
            "_view_name": "StyleView",
            "_model_name": "DescriptionStyleModel",
            "description_width": "",
            "_view_module": "@jupyter-widgets/base",
            "_model_module_version": "1.5.0",
            "_view_count": null,
            "_view_module_version": "1.2.0",
            "_model_module": "@jupyter-widgets/controls"
          }
        },
        "447402c6afb34244a2705438cf4805ec": {
          "model_module": "@jupyter-widgets/base",
          "model_name": "LayoutModel",
          "state": {
            "_view_name": "LayoutView",
            "grid_template_rows": null,
            "right": null,
            "justify_content": null,
            "_view_module": "@jupyter-widgets/base",
            "overflow": null,
            "_model_module_version": "1.2.0",
            "_view_count": null,
            "flex_flow": null,
            "width": null,
            "min_width": null,
            "border": null,
            "align_items": null,
            "bottom": null,
            "_model_module": "@jupyter-widgets/base",
            "top": null,
            "grid_column": null,
            "overflow_y": null,
            "overflow_x": null,
            "grid_auto_flow": null,
            "grid_area": null,
            "grid_template_columns": null,
            "flex": null,
            "_model_name": "LayoutModel",
            "justify_items": null,
            "grid_row": null,
            "max_height": null,
            "align_content": null,
            "visibility": null,
            "align_self": null,
            "height": null,
            "min_height": null,
            "padding": null,
            "grid_auto_rows": null,
            "grid_gap": null,
            "max_width": null,
            "order": null,
            "_view_module_version": "1.2.0",
            "grid_template_areas": null,
            "object_position": null,
            "object_fit": null,
            "grid_auto_columns": null,
            "margin": null,
            "display": null,
            "left": null
          }
        },
        "ac31bb7a23d241f3b560658d8898f302": {
          "model_module": "@jupyter-widgets/controls",
          "model_name": "ButtonStyleModel",
          "state": {
            "_view_name": "StyleView",
            "_model_name": "ButtonStyleModel",
            "_view_module": "@jupyter-widgets/base",
            "_model_module_version": "1.5.0",
            "_view_count": null,
            "button_color": null,
            "font_weight": "",
            "_view_module_version": "1.2.0",
            "_model_module": "@jupyter-widgets/controls"
          }
        },
        "4ef47cd71964473db404fd63c5311feb": {
          "model_module": "@jupyter-widgets/base",
          "model_name": "LayoutModel",
          "state": {
            "_view_name": "LayoutView",
            "grid_template_rows": null,
            "right": null,
            "justify_content": null,
            "_view_module": "@jupyter-widgets/base",
            "overflow": null,
            "_model_module_version": "1.2.0",
            "_view_count": null,
            "flex_flow": null,
            "width": null,
            "min_width": null,
            "border": null,
            "align_items": null,
            "bottom": null,
            "_model_module": "@jupyter-widgets/base",
            "top": null,
            "grid_column": null,
            "overflow_y": null,
            "overflow_x": null,
            "grid_auto_flow": null,
            "grid_area": null,
            "grid_template_columns": null,
            "flex": null,
            "_model_name": "LayoutModel",
            "justify_items": null,
            "grid_row": null,
            "max_height": null,
            "align_content": null,
            "visibility": null,
            "align_self": null,
            "height": null,
            "min_height": null,
            "padding": null,
            "grid_auto_rows": null,
            "grid_gap": null,
            "max_width": null,
            "order": null,
            "_view_module_version": "1.2.0",
            "grid_template_areas": null,
            "object_position": null,
            "object_fit": null,
            "grid_auto_columns": null,
            "margin": null,
            "display": null,
            "left": null
          }
        },
        "da7c5cad451f42daaba553a24322df23": {
          "model_module": "@jupyter-widgets/controls",
          "model_name": "DescriptionStyleModel",
          "state": {
            "_view_name": "StyleView",
            "_model_name": "DescriptionStyleModel",
            "description_width": "",
            "_view_module": "@jupyter-widgets/base",
            "_model_module_version": "1.5.0",
            "_view_count": null,
            "_view_module_version": "1.2.0",
            "_model_module": "@jupyter-widgets/controls"
          }
        },
        "c366031579664c23a14bdcd61a5cca07": {
          "model_module": "@jupyter-widgets/base",
          "model_name": "LayoutModel",
          "state": {
            "_view_name": "LayoutView",
            "grid_template_rows": null,
            "right": null,
            "justify_content": null,
            "_view_module": "@jupyter-widgets/base",
            "overflow": null,
            "_model_module_version": "1.2.0",
            "_view_count": null,
            "flex_flow": null,
            "width": null,
            "min_width": null,
            "border": null,
            "align_items": null,
            "bottom": null,
            "_model_module": "@jupyter-widgets/base",
            "top": null,
            "grid_column": null,
            "overflow_y": null,
            "overflow_x": null,
            "grid_auto_flow": null,
            "grid_area": null,
            "grid_template_columns": null,
            "flex": null,
            "_model_name": "LayoutModel",
            "justify_items": null,
            "grid_row": null,
            "max_height": null,
            "align_content": null,
            "visibility": null,
            "align_self": null,
            "height": null,
            "min_height": null,
            "padding": null,
            "grid_auto_rows": null,
            "grid_gap": null,
            "max_width": null,
            "order": null,
            "_view_module_version": "1.2.0",
            "grid_template_areas": null,
            "object_position": null,
            "object_fit": null,
            "grid_auto_columns": null,
            "margin": null,
            "display": null,
            "left": null
          }
        },
        "0e158a38374a4963b8947e8d4df1e7d5": {
          "model_module": "@jupyter-widgets/base",
          "model_name": "LayoutModel",
          "state": {
            "_view_name": "LayoutView",
            "grid_template_rows": null,
            "right": null,
            "justify_content": null,
            "_view_module": "@jupyter-widgets/base",
            "overflow": null,
            "_model_module_version": "1.2.0",
            "_view_count": null,
            "flex_flow": null,
            "width": null,
            "min_width": null,
            "border": null,
            "align_items": null,
            "bottom": null,
            "_model_module": "@jupyter-widgets/base",
            "top": null,
            "grid_column": null,
            "overflow_y": null,
            "overflow_x": null,
            "grid_auto_flow": null,
            "grid_area": null,
            "grid_template_columns": null,
            "flex": null,
            "_model_name": "LayoutModel",
            "justify_items": null,
            "grid_row": null,
            "max_height": null,
            "align_content": null,
            "visibility": null,
            "align_self": null,
            "height": null,
            "min_height": null,
            "padding": null,
            "grid_auto_rows": null,
            "grid_gap": null,
            "max_width": null,
            "order": null,
            "_view_module_version": "1.2.0",
            "grid_template_areas": null,
            "object_position": null,
            "object_fit": null,
            "grid_auto_columns": null,
            "margin": null,
            "display": null,
            "left": null
          }
        }
      }
    }
  },
  "cells": [
    {
      "cell_type": "markdown",
      "metadata": {
        "id": "view-in-github",
        "colab_type": "text"
      },
      "source": [
        "<a href=\"https://colab.research.google.com/github/VitaliyKiwi/lancia/blob/master/lancia_classifier.ipynb\" target=\"_parent\"><img src=\"https://colab.research.google.com/assets/colab-badge.svg\" alt=\"Open In Colab\"/></a>"
      ]
    },
    {
      "cell_type": "code",
      "metadata": {
        "id": "wGWwmJRDa7BJ",
        "colab_type": "code",
        "colab": {}
      },
      "source": [
        "!pip install fastai2"
      ],
      "execution_count": null,
      "outputs": []
    },
    {
      "cell_type": "code",
      "metadata": {
        "id": "WkBbNbCJY_Ao",
        "colab_type": "code",
        "colab": {}
      },
      "source": [
        "import fastai"
      ],
      "execution_count": 26,
      "outputs": []
    },
    {
      "cell_type": "code",
      "metadata": {
        "id": "erYOVM-vOvlr",
        "colab_type": "code",
        "colab": {}
      },
      "source": [
        "from fastai.vision.all import *\n",
        "from fastai.vision.widgets import *"
      ],
      "execution_count": 27,
      "outputs": []
    },
    {
      "cell_type": "markdown",
      "metadata": {
        "id": "UqysYMcrO-K0",
        "colab_type": "text"
      },
      "source": [
        "# **The Amazing Lancia Classifier!**"
      ]
    },
    {
      "cell_type": "markdown",
      "metadata": {
        "id": "FuNPpLTjPFI_",
        "colab_type": "text"
      },
      "source": [
        "Do you need to know which car model is Lancia? Then you have come to the right place. Take a picture of the car and click upload to categorize it."
      ]
    },
    {
      "cell_type": "code",
      "metadata": {
        "id": "-W2ZLTgmPJLQ",
        "colab_type": "code",
        "colab": {}
      },
      "source": [
        "path = Path()"
      ],
      "execution_count": 29,
      "outputs": []
    },
    {
      "cell_type": "code",
      "metadata": {
        "id": "5LDlIPUAcqfx",
        "colab_type": "code",
        "colab": {}
      },
      "source": [
        "learn_inf = load_learner(path/'export.pkl', cpu=True)"
      ],
      "execution_count": null,
      "outputs": []
    },
    {
      "cell_type": "code",
      "metadata": {
        "id": "LYFGh_GrcuYH",
        "colab_type": "code",
        "colab": {}
      },
      "source": [
        "btn_upload = widgets.FileUpload()\n",
        "out_pl = widgets.Output()\n",
        "lbl_pred = widgets.Label()"
      ],
      "execution_count": 31,
      "outputs": []
    },
    {
      "cell_type": "code",
      "metadata": {
        "id": "F_NzZXllPNZg",
        "colab_type": "code",
        "colab": {}
      },
      "source": [
        "def on_data_change(change):\n",
        "    lbl_pred.value = ''\n",
        "    img = PILImage.create(btn_upload.data[-1])\n",
        "    out_pl.clear_output()\n",
        "    with out_pl: display(img.to_thumb(128,128))\n",
        "    pred,pred_idx,probs = learn_inf.predict(img)\n",
        "    lbl_pred.value = f'Модель автомобиля: {pred}; Вероятность: {probs[pred_idx]:.04f}'"
      ],
      "execution_count": 32,
      "outputs": []
    },
    {
      "cell_type": "code",
      "metadata": {
        "id": "nFSJL2uwPgLw",
        "colab_type": "code",
        "colab": {}
      },
      "source": [
        "btn_upload.observe(on_data_change, names=['data'])"
      ],
      "execution_count": 33,
      "outputs": []
    },
    {
      "cell_type": "code",
      "metadata": {
        "id": "EhuUu_dzPirK",
        "colab_type": "code",
        "colab": {
          "base_uri": "https://localhost:8080/",
          "height": 501,
          "referenced_widgets": [
            "f7b0053ce58e433195c8fa0827619d22",
            "c8d746b4636b44029f6db2ff38c8e842",
            "9309e2cb30d44d598934c527236acf97",
            "036e52863f0e4bdd8872ef514eb5681f",
            "cb17861762b740eeb771bdc33cd5e880",
            "c15279834b1e41baa65cf6c04c5d2b81",
            "f431271bbb1f47388a6763ffd749bae9",
            "447402c6afb34244a2705438cf4805ec",
            "ac31bb7a23d241f3b560658d8898f302",
            "4ef47cd71964473db404fd63c5311feb",
            "da7c5cad451f42daaba553a24322df23",
            "c366031579664c23a14bdcd61a5cca07",
            "0e158a38374a4963b8947e8d4df1e7d5"
          ]
        },
        "outputId": "03378623-d4c9-4202-ea11-2f654cc82b2f"
      },
      "source": [
        "display(VBox([widgets.Label('Выбери автомобиль!'), btn_upload, out_pl, lbl_pred]))"
      ],
      "execution_count": 34,
      "outputs": [
        {
          "output_type": "display_data",
          "data": {
            "application/vnd.jupyter.widget-view+json": {
              "model_id": "f7b0053ce58e433195c8fa0827619d22",
              "version_minor": 0,
              "version_major": 2
            },
            "text/plain": [
              "VBox(children=(Label(value='Выбери автомобиль!'), FileUpload(value={}, description='Upload'), Output(), Label(…"
            ]
          },
          "metadata": {
            "tags": []
          }
        },
        {
          "output_type": "error",
          "ename": "NameError",
          "evalue": "ignored",
          "traceback": [
            "\u001b[0;31m---------------------------------------------------------------------------\u001b[0m",
            "\u001b[0;31mNameError\u001b[0m                                 Traceback (most recent call last)",
            "\u001b[0;32m/usr/local/lib/python3.6/dist-packages/ipywidgets/widgets/widget.py\u001b[0m in \u001b[0;36m_handle_msg\u001b[0;34m(self, msg)\u001b[0m\n\u001b[1;32m    674\u001b[0m                 \u001b[0;32mif\u001b[0m \u001b[0;34m'buffer_paths'\u001b[0m \u001b[0;32min\u001b[0m \u001b[0mdata\u001b[0m\u001b[0;34m:\u001b[0m\u001b[0;34m\u001b[0m\u001b[0;34m\u001b[0m\u001b[0m\n\u001b[1;32m    675\u001b[0m                     \u001b[0m_put_buffers\u001b[0m\u001b[0;34m(\u001b[0m\u001b[0mstate\u001b[0m\u001b[0;34m,\u001b[0m \u001b[0mdata\u001b[0m\u001b[0;34m[\u001b[0m\u001b[0;34m'buffer_paths'\u001b[0m\u001b[0;34m]\u001b[0m\u001b[0;34m,\u001b[0m \u001b[0mmsg\u001b[0m\u001b[0;34m[\u001b[0m\u001b[0;34m'buffers'\u001b[0m\u001b[0;34m]\u001b[0m\u001b[0;34m)\u001b[0m\u001b[0;34m\u001b[0m\u001b[0;34m\u001b[0m\u001b[0m\n\u001b[0;32m--> 676\u001b[0;31m                 \u001b[0mself\u001b[0m\u001b[0;34m.\u001b[0m\u001b[0mset_state\u001b[0m\u001b[0;34m(\u001b[0m\u001b[0mstate\u001b[0m\u001b[0;34m)\u001b[0m\u001b[0;34m\u001b[0m\u001b[0;34m\u001b[0m\u001b[0m\n\u001b[0m\u001b[1;32m    677\u001b[0m \u001b[0;34m\u001b[0m\u001b[0m\n\u001b[1;32m    678\u001b[0m         \u001b[0;31m# Handle a state request.\u001b[0m\u001b[0;34m\u001b[0m\u001b[0;34m\u001b[0m\u001b[0;34m\u001b[0m\u001b[0m\n",
            "\u001b[0;32m/usr/local/lib/python3.6/dist-packages/ipywidgets/widgets/widget.py\u001b[0m in \u001b[0;36mset_state\u001b[0;34m(self, sync_data)\u001b[0m\n\u001b[1;32m    543\u001b[0m                     from_json = self.trait_metadata(name, 'from_json',\n\u001b[1;32m    544\u001b[0m                                                     self._trait_from_json)\n\u001b[0;32m--> 545\u001b[0;31m                     \u001b[0mself\u001b[0m\u001b[0;34m.\u001b[0m\u001b[0mset_trait\u001b[0m\u001b[0;34m(\u001b[0m\u001b[0mname\u001b[0m\u001b[0;34m,\u001b[0m \u001b[0mfrom_json\u001b[0m\u001b[0;34m(\u001b[0m\u001b[0msync_data\u001b[0m\u001b[0;34m[\u001b[0m\u001b[0mname\u001b[0m\u001b[0;34m]\u001b[0m\u001b[0;34m,\u001b[0m \u001b[0mself\u001b[0m\u001b[0;34m)\u001b[0m\u001b[0;34m)\u001b[0m\u001b[0;34m\u001b[0m\u001b[0;34m\u001b[0m\u001b[0m\n\u001b[0m\u001b[1;32m    546\u001b[0m \u001b[0;34m\u001b[0m\u001b[0m\n\u001b[1;32m    547\u001b[0m     \u001b[0;32mdef\u001b[0m \u001b[0msend\u001b[0m\u001b[0;34m(\u001b[0m\u001b[0mself\u001b[0m\u001b[0;34m,\u001b[0m \u001b[0mcontent\u001b[0m\u001b[0;34m,\u001b[0m \u001b[0mbuffers\u001b[0m\u001b[0;34m=\u001b[0m\u001b[0;32mNone\u001b[0m\u001b[0;34m)\u001b[0m\u001b[0;34m:\u001b[0m\u001b[0;34m\u001b[0m\u001b[0;34m\u001b[0m\u001b[0m\n",
            "\u001b[0;32m/usr/lib/python3.6/contextlib.py\u001b[0m in \u001b[0;36m__exit__\u001b[0;34m(self, type, value, traceback)\u001b[0m\n\u001b[1;32m     86\u001b[0m         \u001b[0;32mif\u001b[0m \u001b[0mtype\u001b[0m \u001b[0;32mis\u001b[0m \u001b[0;32mNone\u001b[0m\u001b[0;34m:\u001b[0m\u001b[0;34m\u001b[0m\u001b[0;34m\u001b[0m\u001b[0m\n\u001b[1;32m     87\u001b[0m             \u001b[0;32mtry\u001b[0m\u001b[0;34m:\u001b[0m\u001b[0;34m\u001b[0m\u001b[0;34m\u001b[0m\u001b[0m\n\u001b[0;32m---> 88\u001b[0;31m                 \u001b[0mnext\u001b[0m\u001b[0;34m(\u001b[0m\u001b[0mself\u001b[0m\u001b[0;34m.\u001b[0m\u001b[0mgen\u001b[0m\u001b[0;34m)\u001b[0m\u001b[0;34m\u001b[0m\u001b[0;34m\u001b[0m\u001b[0m\n\u001b[0m\u001b[1;32m     89\u001b[0m             \u001b[0;32mexcept\u001b[0m \u001b[0mStopIteration\u001b[0m\u001b[0;34m:\u001b[0m\u001b[0;34m\u001b[0m\u001b[0;34m\u001b[0m\u001b[0m\n\u001b[1;32m     90\u001b[0m                 \u001b[0;32mreturn\u001b[0m \u001b[0;32mFalse\u001b[0m\u001b[0;34m\u001b[0m\u001b[0;34m\u001b[0m\u001b[0m\n",
            "\u001b[0;32m/usr/local/lib/python3.6/dist-packages/traitlets/traitlets.py\u001b[0m in \u001b[0;36mhold_trait_notifications\u001b[0;34m(self)\u001b[0m\n\u001b[1;32m   1129\u001b[0m                 \u001b[0;32mfor\u001b[0m \u001b[0mchanges\u001b[0m \u001b[0;32min\u001b[0m \u001b[0mcache\u001b[0m\u001b[0;34m.\u001b[0m\u001b[0mvalues\u001b[0m\u001b[0;34m(\u001b[0m\u001b[0;34m)\u001b[0m\u001b[0;34m:\u001b[0m\u001b[0;34m\u001b[0m\u001b[0;34m\u001b[0m\u001b[0m\n\u001b[1;32m   1130\u001b[0m                     \u001b[0;32mfor\u001b[0m \u001b[0mchange\u001b[0m \u001b[0;32min\u001b[0m \u001b[0mchanges\u001b[0m\u001b[0;34m:\u001b[0m\u001b[0;34m\u001b[0m\u001b[0;34m\u001b[0m\u001b[0m\n\u001b[0;32m-> 1131\u001b[0;31m                         \u001b[0mself\u001b[0m\u001b[0;34m.\u001b[0m\u001b[0mnotify_change\u001b[0m\u001b[0;34m(\u001b[0m\u001b[0mchange\u001b[0m\u001b[0;34m)\u001b[0m\u001b[0;34m\u001b[0m\u001b[0;34m\u001b[0m\u001b[0m\n\u001b[0m\u001b[1;32m   1132\u001b[0m \u001b[0;34m\u001b[0m\u001b[0m\n\u001b[1;32m   1133\u001b[0m     \u001b[0;32mdef\u001b[0m \u001b[0m_notify_trait\u001b[0m\u001b[0;34m(\u001b[0m\u001b[0mself\u001b[0m\u001b[0;34m,\u001b[0m \u001b[0mname\u001b[0m\u001b[0;34m,\u001b[0m \u001b[0mold_value\u001b[0m\u001b[0;34m,\u001b[0m \u001b[0mnew_value\u001b[0m\u001b[0;34m)\u001b[0m\u001b[0;34m:\u001b[0m\u001b[0;34m\u001b[0m\u001b[0;34m\u001b[0m\u001b[0m\n",
            "\u001b[0;32m/usr/local/lib/python3.6/dist-packages/ipywidgets/widgets/widget.py\u001b[0m in \u001b[0;36mnotify_change\u001b[0;34m(self, change)\u001b[0m\n\u001b[1;32m    604\u001b[0m                 \u001b[0;31m# Send new state to front-end\u001b[0m\u001b[0;34m\u001b[0m\u001b[0;34m\u001b[0m\u001b[0;34m\u001b[0m\u001b[0m\n\u001b[1;32m    605\u001b[0m                 \u001b[0mself\u001b[0m\u001b[0;34m.\u001b[0m\u001b[0msend_state\u001b[0m\u001b[0;34m(\u001b[0m\u001b[0mkey\u001b[0m\u001b[0;34m=\u001b[0m\u001b[0mname\u001b[0m\u001b[0;34m)\u001b[0m\u001b[0;34m\u001b[0m\u001b[0;34m\u001b[0m\u001b[0m\n\u001b[0;32m--> 606\u001b[0;31m         \u001b[0msuper\u001b[0m\u001b[0;34m(\u001b[0m\u001b[0mWidget\u001b[0m\u001b[0;34m,\u001b[0m \u001b[0mself\u001b[0m\u001b[0;34m)\u001b[0m\u001b[0;34m.\u001b[0m\u001b[0mnotify_change\u001b[0m\u001b[0;34m(\u001b[0m\u001b[0mchange\u001b[0m\u001b[0;34m)\u001b[0m\u001b[0;34m\u001b[0m\u001b[0;34m\u001b[0m\u001b[0m\n\u001b[0m\u001b[1;32m    607\u001b[0m \u001b[0;34m\u001b[0m\u001b[0m\n\u001b[1;32m    608\u001b[0m     \u001b[0;32mdef\u001b[0m \u001b[0m__repr__\u001b[0m\u001b[0;34m(\u001b[0m\u001b[0mself\u001b[0m\u001b[0;34m)\u001b[0m\u001b[0;34m:\u001b[0m\u001b[0;34m\u001b[0m\u001b[0;34m\u001b[0m\u001b[0m\n",
            "\u001b[0;32m/usr/local/lib/python3.6/dist-packages/traitlets/traitlets.py\u001b[0m in \u001b[0;36mnotify_change\u001b[0;34m(self, change)\u001b[0m\n\u001b[1;32m   1174\u001b[0m                 \u001b[0mc\u001b[0m \u001b[0;34m=\u001b[0m \u001b[0mgetattr\u001b[0m\u001b[0;34m(\u001b[0m\u001b[0mself\u001b[0m\u001b[0;34m,\u001b[0m \u001b[0mc\u001b[0m\u001b[0;34m.\u001b[0m\u001b[0mname\u001b[0m\u001b[0;34m)\u001b[0m\u001b[0;34m\u001b[0m\u001b[0;34m\u001b[0m\u001b[0m\n\u001b[1;32m   1175\u001b[0m \u001b[0;34m\u001b[0m\u001b[0m\n\u001b[0;32m-> 1176\u001b[0;31m             \u001b[0mc\u001b[0m\u001b[0;34m(\u001b[0m\u001b[0mchange\u001b[0m\u001b[0;34m)\u001b[0m\u001b[0;34m\u001b[0m\u001b[0;34m\u001b[0m\u001b[0m\n\u001b[0m\u001b[1;32m   1177\u001b[0m \u001b[0;34m\u001b[0m\u001b[0m\n\u001b[1;32m   1178\u001b[0m     \u001b[0;32mdef\u001b[0m \u001b[0m_add_notifiers\u001b[0m\u001b[0;34m(\u001b[0m\u001b[0mself\u001b[0m\u001b[0;34m,\u001b[0m \u001b[0mhandler\u001b[0m\u001b[0;34m,\u001b[0m \u001b[0mname\u001b[0m\u001b[0;34m,\u001b[0m \u001b[0mtype\u001b[0m\u001b[0;34m)\u001b[0m\u001b[0;34m:\u001b[0m\u001b[0;34m\u001b[0m\u001b[0;34m\u001b[0m\u001b[0m\n",
            "\u001b[0;32m<ipython-input-32-571d9b9e8766>\u001b[0m in \u001b[0;36mon_data_change\u001b[0;34m(change)\u001b[0m\n\u001b[1;32m      4\u001b[0m     \u001b[0mout_pl\u001b[0m\u001b[0;34m.\u001b[0m\u001b[0mclear_output\u001b[0m\u001b[0;34m(\u001b[0m\u001b[0;34m)\u001b[0m\u001b[0;34m\u001b[0m\u001b[0;34m\u001b[0m\u001b[0m\n\u001b[1;32m      5\u001b[0m     \u001b[0;32mwith\u001b[0m \u001b[0mout_pl\u001b[0m\u001b[0;34m:\u001b[0m \u001b[0mdisplay\u001b[0m\u001b[0;34m(\u001b[0m\u001b[0mimg\u001b[0m\u001b[0;34m.\u001b[0m\u001b[0mto_thumb\u001b[0m\u001b[0;34m(\u001b[0m\u001b[0;36m128\u001b[0m\u001b[0;34m,\u001b[0m\u001b[0;36m128\u001b[0m\u001b[0;34m)\u001b[0m\u001b[0;34m)\u001b[0m\u001b[0;34m\u001b[0m\u001b[0;34m\u001b[0m\u001b[0m\n\u001b[0;32m----> 6\u001b[0;31m     \u001b[0mpred\u001b[0m\u001b[0;34m,\u001b[0m\u001b[0mpred_idx\u001b[0m\u001b[0;34m,\u001b[0m\u001b[0mprobs\u001b[0m \u001b[0;34m=\u001b[0m \u001b[0mlearn_inf\u001b[0m\u001b[0;34m.\u001b[0m\u001b[0mpredict\u001b[0m\u001b[0;34m(\u001b[0m\u001b[0mimg\u001b[0m\u001b[0;34m)\u001b[0m\u001b[0;34m\u001b[0m\u001b[0;34m\u001b[0m\u001b[0m\n\u001b[0m\u001b[1;32m      7\u001b[0m     \u001b[0mlbl_pred\u001b[0m\u001b[0;34m.\u001b[0m\u001b[0mvalue\u001b[0m \u001b[0;34m=\u001b[0m \u001b[0;34mf'Модель автомобиля: {pred}; Вероятность: {probs[pred_idx]:.04f}'\u001b[0m\u001b[0;34m\u001b[0m\u001b[0;34m\u001b[0m\u001b[0m\n",
            "\u001b[0;31mNameError\u001b[0m: name 'learn_inf' is not defined"
          ]
        }
      ]
    }
  ]
}