{
  "nbformat": 4,
  "nbformat_minor": 0,
  "metadata": {
    "colab": {
      "name": "lancia_classifier.ipynb",
      "provenance": [],
      "include_colab_link": true
    },
    "kernelspec": {
      "name": "python3",
      "display_name": "Python 3"
    },
    "accelerator": "GPU"
  },
  "cells": [
    {
      "cell_type": "markdown",
      "metadata": {
        "id": "view-in-github",
        "colab_type": "text"
      },
      "source": [
        "<a href=\"https://colab.research.google.com/github/VitaliyKiwi/lancia/blob/master/lancia_classifier.ipynb\" target=\"_parent\"><img src=\"https://colab.research.google.com/assets/colab-badge.svg\" alt=\"Open In Colab\"/></a>"
      ]
    },
    {
      "cell_type": "code",
      "metadata": {
        "id": "kZ5g9yRabvip",
        "colab_type": "code",
        "colab": {}
      },
      "source": [
        "pip show fastai"
      ],
      "execution_count": null,
      "outputs": []
    },
    {
      "cell_type": "code",
      "metadata": {
        "id": "wGWwmJRDa7BJ",
        "colab_type": "code",
        "colab": {}
      },
      "source": [
        "pip install -U fastai"
      ],
      "execution_count": null,
      "outputs": []
    },
    {
      "cell_type": "code",
      "metadata": {
        "id": "WkBbNbCJY_Ao",
        "colab_type": "code",
        "colab": {}
      },
      "source": [
        "import fastai.callback.all\n",
        "from fastai.vision.all import *\n",
        "from fastai.vision.widgets import *"
      ],
      "execution_count": 2,
      "outputs": []
    },
    {
      "cell_type": "markdown",
      "metadata": {
        "id": "UqysYMcrO-K0",
        "colab_type": "text"
      },
      "source": [
        "# **The Amazing Lancia Classifier!**"
      ]
    },
    {
      "cell_type": "markdown",
      "metadata": {
        "id": "FuNPpLTjPFI_",
        "colab_type": "text"
      },
      "source": [
        "Do you need to know which car model is Lancia? Then you have come to the right place. Take a picture of the car and click upload to categorize it."
      ]
    },
    {
      "cell_type": "code",
      "metadata": {
        "id": "-W2ZLTgmPJLQ",
        "colab_type": "code",
        "colab": {}
      },
      "source": [
        "path = Path()"
      ],
      "execution_count": 3,
      "outputs": []
    },
    {
      "cell_type": "code",
      "metadata": {
        "id": "5LDlIPUAcqfx",
        "colab_type": "code",
        "colab": {}
      },
      "source": [
        "learn_inf = load_learner(path/'export.pkl', cpu=True)"
      ],
      "execution_count": 4,
      "outputs": []
    },
    {
      "cell_type": "code",
      "metadata": {
        "id": "LYFGh_GrcuYH",
        "colab_type": "code",
        "colab": {}
      },
      "source": [
        "btn_upload = widgets.FileUpload()\n",
        "out_pl = widgets.Output()\n",
        "lbl_pred = widgets.Label()"
      ],
      "execution_count": 5,
      "outputs": []
    },
    {
      "cell_type": "code",
      "metadata": {
        "id": "F_NzZXllPNZg",
        "colab_type": "code",
        "colab": {}
      },
      "source": [
        "def on_data_change(change):\n",
        "    lbl_pred.value = ''\n",
        "    img = PILImage.create(btn_upload.data[-1])\n",
        "    out_pl.clear_output()\n",
        "    with out_pl: display(img.to_thumb(128,128))\n",
        "    pred,pred_idx,probs = learn_inf.predict(img)\n",
        "    lbl_pred.value = f'Модель автомобиля: {pred}; Вероятность: {probs[pred_idx]:.04f}'"
      ],
      "execution_count": 6,
      "outputs": []
    },
    {
      "cell_type": "code",
      "metadata": {
        "id": "nFSJL2uwPgLw",
        "colab_type": "code",
        "colab": {}
      },
      "source": [
        "btn_upload.observe(on_data_change, names=['data'])"
      ],
      "execution_count": 7,
      "outputs": []
    },
    {
      "cell_type": "code",
      "metadata": {
        "id": "EhuUu_dzPirK",
        "colab_type": "code",
        "colab": {}
      },
      "source": [
        "display(VBox([widgets.Label('Выбери автомобиль!'), btn_upload, out_pl, lbl_pred]))"
      ],
      "execution_count": null,
      "outputs": []
    }
  ]
}